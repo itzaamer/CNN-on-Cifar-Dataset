{
  "nbformat": 4,
  "nbformat_minor": 0,
  "metadata": {
    "colab": {
      "name": "Cnn On cifar Dataset.ipynb",
      "provenance": [],
      "collapsed_sections": []
    },
    "kernelspec": {
      "name": "python3",
      "display_name": "Python 3"
    },
    "language_info": {
      "name": "python"
    },
    "accelerator": "GPU"
  },
  "cells": [
    {
      "cell_type": "markdown",
      "metadata": {
        "id": "kK3alCdFflQX"
      },
      "source": [
        "### CNN on CIFR Assignment:"
      ]
    },
    {
      "cell_type": "markdown",
      "metadata": {
        "id": "cHCYMwwXflQd"
      },
      "source": [
        "1.  Please visit this link to access the state-of-art DenseNet code for reference - DenseNet - cifar10 notebook link\n",
        "2.  You need to create a copy of this and \"retrain\" this model to achieve 90+ test accuracy. \n",
        "3.  You cannot use DropOut layers.\n",
        "4.  You MUST use Image Augmentation Techniques.\n",
        "5.  You cannot use an already trained model as a beginning points, you have to initilize as your own\n",
        "6.  You cannot run the program for more than 300 Epochs, and it should be clear from your log, that you have only used 300 Epochs\n",
        "7.  You cannot use test images for training the model.\n",
        "8.  You cannot change the general architecture of DenseNet (which means you must use Dense Block, Transition and Output blocks as mentioned in the code)\n",
        "9.  You are free to change Convolution types (e.g. from 3x3 normal convolution to Depthwise Separable, etc)\n",
        "10. You cannot have more than 1 Million parameters in total\n",
        "11. You are free to move the code from Keras to Tensorflow, Pytorch, MXNET etc. \n",
        "12. You can use any optimization algorithm you need. \n",
        "13. You can checkpoint your model and retrain the model from that checkpoint so that no need of training the model from first if you lost at any epoch while training. You can directly load that model and Train from that epoch. "
      ]
    },
    {
      "cell_type": "code",
      "metadata": {
        "id": "3-O6t4XjeDoY",
        "colab": {
          "base_uri": "https://localhost:8080/",
          "height": 0
        },
        "outputId": "1848ef7f-946f-485b-95a1-621d854f516e"
      },
      "source": [
        "from google.colab import drive\n",
        "drive.mount('/content/gdrive')"
      ],
      "execution_count": 1,
      "outputs": [
        {
          "output_type": "stream",
          "name": "stdout",
          "text": [
            "Mounted at /content/gdrive\n"
          ]
        }
      ]
    },
    {
      "cell_type": "code",
      "metadata": {
        "colab": {
          "base_uri": "https://localhost:8080/",
          "height": 0
        },
        "id": "PTHIERQuzHE_",
        "outputId": "218ee742-d526-4af5-af6a-3b20785dd34d"
      },
      "source": [
        "from tensorflow.python.client import device_lib \n",
        "device_lib.list_local_devices()"
      ],
      "execution_count": 2,
      "outputs": [
        {
          "output_type": "execute_result",
          "data": {
            "text/plain": [
              "[name: \"/device:CPU:0\"\n",
              " device_type: \"CPU\"\n",
              " memory_limit: 268435456\n",
              " locality {\n",
              " }\n",
              " incarnation: 6447702113979293328, name: \"/device:GPU:0\"\n",
              " device_type: \"GPU\"\n",
              " memory_limit: 11345264640\n",
              " locality {\n",
              "   bus_id: 1\n",
              "   links {\n",
              "   }\n",
              " }\n",
              " incarnation: 16374535067227115615\n",
              " physical_device_desc: \"device: 0, name: Tesla K80, pci bus id: 0000:00:04.0, compute capability: 3.7\"]"
            ]
          },
          "metadata": {},
          "execution_count": 2
        }
      ]
    },
    {
      "cell_type": "code",
      "metadata": {
        "id": "XkdDjQ6KB6lz"
      },
      "source": [
        "import os\n",
        "root_path = '/content/gdrive/MyDrive/cifar-10'"
      ],
      "execution_count": 3,
      "outputs": []
    },
    {
      "cell_type": "code",
      "metadata": {
        "id": "tCyQ76tzHfOj"
      },
      "source": [
        "import warnings \n",
        "warnings.filterwarnings(\"ignore\")"
      ],
      "execution_count": 4,
      "outputs": []
    },
    {
      "cell_type": "code",
      "metadata": {
        "id": "QCHQWW2eCw1M"
      },
      "source": [
        "# import keras\n",
        "# from keras.datasets import cifar10\n",
        "# from keras.models import Model, Sequential\n",
        "# from keras.layers import Dense, Dropout, Flatten, Input, AveragePooling2D, merge, Activation\n",
        "# from keras.layers import Conv2D, MaxPooling2D, BatchNormalization\n",
        "# from keras.layers import Concatenate\n",
        "# from keras.optimizers import Adam\n",
        "from tensorflow.keras import models, layers\n",
        "from tensorflow.keras.models import Model\n",
        "from tensorflow.keras.layers import BatchNormalization, Activation, Flatten\n",
        "from tensorflow.keras.optimizers import Adam"
      ],
      "execution_count": 5,
      "outputs": []
    },
    {
      "cell_type": "code",
      "metadata": {
        "id": "FgIqyo3fC2AJ"
      },
      "source": [
        "# this part will prevent tensorflow to allocate all the avaliable GPU Memory\n",
        "# backend\n",
        "import tensorflow as tf"
      ],
      "execution_count": 6,
      "outputs": []
    },
    {
      "cell_type": "code",
      "metadata": {
        "id": "q5MOXdDlDDTz"
      },
      "source": [
        "# Hyperparameters\n",
        "batch_size = 128\n",
        "num_classes = 10\n",
        "epochs = 30\n",
        "l = 6\n",
        "num_filter = 64\n",
        "compression = 0.5\n",
        "dropout_rate = 0"
      ],
      "execution_count": 8,
      "outputs": []
    },
    {
      "cell_type": "code",
      "metadata": {
        "id": "BR4i_Hh1DFcC",
        "colab": {
          "base_uri": "https://localhost:8080/",
          "height": 0
        },
        "outputId": "0267bce9-4dca-4a22-fbb0-c171f5933183"
      },
      "source": [
        "# Load CIFAR10 Data\n",
        "(X_train, y_train), (X_test, y_test) = tf.keras.datasets.cifar10.load_data()\n",
        "img_height, img_width, channel = X_train.shape[1],X_train.shape[2],X_train.shape[3]\n",
        "\n",
        "# convert to one hot encoing \n",
        "y_train = tf.keras.utils.to_categorical(y_train, num_classes)\n",
        "y_test = tf.keras.utils.to_categorical(y_test, num_classes) "
      ],
      "execution_count": 9,
      "outputs": [
        {
          "output_type": "stream",
          "name": "stdout",
          "text": [
            "Downloading data from https://www.cs.toronto.edu/~kriz/cifar-10-python.tar.gz\n",
            "170500096/170498071 [==============================] - 2s 0us/step\n",
            "170508288/170498071 [==============================] - 2s 0us/step\n"
          ]
        }
      ]
    },
    {
      "cell_type": "code",
      "metadata": {
        "colab": {
          "base_uri": "https://localhost:8080/",
          "height": 0
        },
        "id": "Wik6bhp1DJt1",
        "outputId": "00cd5001-3c0f-470b-97c8-5a939277af52"
      },
      "source": [
        "X_train.shape"
      ],
      "execution_count": 10,
      "outputs": [
        {
          "output_type": "execute_result",
          "data": {
            "text/plain": [
              "(50000, 32, 32, 3)"
            ]
          },
          "metadata": {},
          "execution_count": 10
        }
      ]
    },
    {
      "cell_type": "code",
      "metadata": {
        "colab": {
          "base_uri": "https://localhost:8080/",
          "height": 0
        },
        "id": "wzzXWbgIDN2a",
        "outputId": "7550a475-898b-415f-8d98-758b4a1a1917"
      },
      "source": [
        "y_train.shape"
      ],
      "execution_count": 11,
      "outputs": [
        {
          "output_type": "execute_result",
          "data": {
            "text/plain": [
              "(50000, 10)"
            ]
          },
          "metadata": {},
          "execution_count": 11
        }
      ]
    },
    {
      "cell_type": "code",
      "metadata": {
        "colab": {
          "base_uri": "https://localhost:8080/",
          "height": 0
        },
        "id": "_G_07FAYDQPM",
        "outputId": "37f0424b-32e2-43b6-e987-8aec965a8973"
      },
      "source": [
        "X_test.shape"
      ],
      "execution_count": 12,
      "outputs": [
        {
          "output_type": "execute_result",
          "data": {
            "text/plain": [
              "(10000, 32, 32, 3)"
            ]
          },
          "metadata": {},
          "execution_count": 12
        }
      ]
    },
    {
      "cell_type": "code",
      "metadata": {
        "colab": {
          "base_uri": "https://localhost:8080/",
          "height": 0
        },
        "id": "02BtlD5DDVEl",
        "outputId": "cef69fa0-6800-44eb-e883-d9e4a8ddd9ac"
      },
      "source": [
        "y_test.shape"
      ],
      "execution_count": 13,
      "outputs": [
        {
          "output_type": "execute_result",
          "data": {
            "text/plain": [
              "(10000, 10)"
            ]
          },
          "metadata": {},
          "execution_count": 13
        }
      ]
    },
    {
      "cell_type": "markdown",
      "metadata": {
        "id": "DUnJfEzlz_uZ"
      },
      "source": [
        "##Data Augmentation:\n",
        "- Data augmentation involves making copies of the examples in the training dataset with small random modifications.\n",
        "\n",
        "- This has a regularizing effect as it both expands the training dataset and allows the model to learn the same general features, although in a more generalized manner."
      ]
    },
    {
      "cell_type": "code",
      "metadata": {
        "id": "wpg9to1sDuvu"
      },
      "source": [
        "#https://machinelearningmastery.com/how-to-develop-a-cnn-from-scratch-for-cifar-10-photo-classification/\n",
        "from keras.preprocessing.image import ImageDataGenerator\n",
        "# define data preparation\n",
        "# Using image augmentation techniques\n",
        "datagen = ImageDataGenerator(\n",
        "        featurewise_center=False,  # set input mean to 0 over the dataset\n",
        "        samplewise_center=False,  # set each sample mean to 0\n",
        "        zca_whitening=False,  # apply ZCA whitening\n",
        "        rotation_range=12,  # randomly rotate images in the range (degrees, 0 to 180)\n",
        "        zoom_range = 0.15, # Randomly zoom image \n",
        "        width_shift_range=0.15,  # randomly shift images horizontally (fraction of total width)\n",
        "        height_shift_range=0.15,  # randomly shift images vertically (fraction of total height)\n",
        "        horizontal_flip=True,  # randomly flip images\n",
        "        vertical_flip=False)  # randomly flip images\n",
        "datagen.fit(X_train)"
      ],
      "execution_count": 18,
      "outputs": []
    },
    {
      "cell_type": "code",
      "metadata": {
        "colab": {
          "base_uri": "https://localhost:8080/",
          "height": 268
        },
        "id": "1CJqx13NFQtK",
        "outputId": "48518a04-e970-420e-b9cc-323dba63033c"
      },
      "source": [
        "import matplotlib.pyplot as plt\n",
        "import numpy as np\n",
        "# configure batch size and retrieve one batch of images\n",
        "for X_batch, y_batch in datagen.flow(X_train, y_train, batch_size=9):\n",
        "\t# create a grid of 3x3 images\n",
        "\tfor i in range(0, 9):\n",
        "\t\tplt.subplot(330 + 1 + i)\n",
        "\t\tplt.imshow(X_batch[i].astype(np.uint8))\n",
        "\t# show the plot\n",
        "\tplt.show()\n",
        "\tbreak"
      ],
      "execution_count": 19,
      "outputs": [
        {
          "output_type": "display_data",
          "data": {
            "image/png": "[encoded data removed]",
            "text/plain": [
              "<Figure size 432x288 with 9 Axes>"
            ]
          },
          "metadata": {
            "needs_background": "light"
          }
        }
      ]
    },
    {
      "cell_type": "markdown",
      "metadata": {
        "id": "q0282bMF5vUO"
      },
      "source": [
        "<pre><font size=5>Define: Dense Block , Transition Block , Output Block."
      ]
    },
    {
      "cell_type": "code",
      "metadata": {
        "id": "I_qxr8CaEcH6"
      },
      "source": [
        "# Dense Block\n",
        "def denseblock(input, num_filter = 12, dropout_rate = 0.2):\n",
        "    global compression\n",
        "    temp = input\n",
        "    for _ in range(l): \n",
        "        BatchNorm = layers.BatchNormalization()(temp)\n",
        "        relu = layers.Activation('relu')(BatchNorm)\n",
        "        Conv2D_3_3 = layers.Conv2D(int(num_filter*compression), (3,3), use_bias=False ,padding='same')(relu)\n",
        "        if dropout_rate>0:\n",
        "            Conv2D_3_3 = layers.Dropout(dropout_rate)(Conv2D_3_3)\n",
        "        concat = layers.Concatenate(axis=-1)([temp,Conv2D_3_3])\n",
        "        \n",
        "        temp = concat\n",
        "        \n",
        "    return temp\n",
        "\n",
        "## transition Blosck\n",
        "def transition(input, num_filter = 12, dropout_rate = 0.2):\n",
        "    global compression\n",
        "    BatchNorm = layers.BatchNormalization()(input)\n",
        "    relu = layers.Activation('relu')(BatchNorm)\n",
        "    Conv2D_BottleNeck = layers.Conv2D(int(num_filter*compression), (1,1), use_bias=False ,padding='same')(relu)\n",
        "    if dropout_rate>0:\n",
        "         Conv2D_BottleNeck = layers.Dropout(dropout_rate)(Conv2D_BottleNeck)\n",
        "    avg = layers.AveragePooling2D(pool_size=(2,2))(Conv2D_BottleNeck)\n",
        "    return avg\n",
        "\n",
        "#output layer\n",
        "def output_layer(input):\n",
        "    global compression\n",
        "    BatchNorm = layers.BatchNormalization()(input)\n",
        "    relu = layers.Activation('relu')(BatchNorm)\n",
        "    cv = layers.Conv2D(14, (1,1), use_bias=False ,padding='same')(relu)\n",
        "    AvgPooling = layers.AveragePooling2D(pool_size=(2,2))(cv)\n",
        "    flat = layers.Flatten()(AvgPooling)\n",
        "    output = layers.Dense(num_classes, activation='softmax')(flat)\n",
        "    return output"
      ],
      "execution_count": null,
      "outputs": []
    },
    {
      "cell_type": "markdown",
      "metadata": {
        "id": "EHi6TgPezc91"
      },
      "source": [
        "<pre><font size=5>Define Model with some paramter.\n",
        "- num_filter = 64\n",
        "- l = 6\n",
        "- Dropout_rate = 0\n",
        "- Batch_size = 128"
      ]
    },
    {
      "cell_type": "code",
      "metadata": {
        "id": "jdFMyDGWE_lB"
      },
      "source": [
        "num_filter = 64\n",
        "dropout_rate = 0\n",
        "l = 6\n",
        "input = layers.Input(shape=(img_height, img_width, channel,))\n",
        "First_Conv2D = layers.Conv2D(num_filter, (3,3), use_bias=False ,padding='same')(input)\n",
        "\n",
        "First_Block = denseblock(First_Conv2D, num_filter, dropout_rate)\n",
        "First_Transition = transition(First_Block, num_filter, dropout_rate)\n",
        "\n",
        "Second_Block = denseblock(First_Transition, num_filter, dropout_rate)\n",
        "Second_Transition = transition(Second_Block, num_filter, dropout_rate)\n",
        "\n",
        "Third_Block = denseblock(Second_Transition, num_filter, dropout_rate)\n",
        "Third_Transition = transition(Third_Block, num_filter, dropout_rate)\n",
        "\n",
        "Last_Block = denseblock(Third_Transition,  num_filter, dropout_rate)\n",
        "output = output_layer(Last_Block)"
      ],
      "execution_count": null,
      "outputs": []
    },
    {
      "cell_type": "code",
      "metadata": {
        "id": "c5Wksy8z5-rw",
        "colab": {
          "base_uri": "https://localhost:8080/",
          "height": 321
        },
        "outputId": "4b17079a-5b1a-4485-d76f-d34cdc95f4e6"
      },
      "source": [
        "#https://arxiv.org/pdf/1608.06993.pdf\n",
        "from IPython.display import IFrame, YouTubeVideo\n",
        "YouTubeVideo(id='-W6y8xnd--U', width=600)"
      ],
      "execution_count": 35,
      "outputs": [
        {
          "output_type": "execute_result",
          "data": {
            "text/html": [
              "\n",
              "        <iframe\n",
              "            width=\"600\"\n",
              "            height=\"300\"\n",
              "            src=\"https://www.youtube.com/embed/-W6y8xnd--U\"\n",
              "            frameborder=\"0\"\n",
              "            allowfullscreen\n",
              "        ></iframe>\n",
              "        "
            ],
            "text/plain": [
              "<IPython.lib.display.YouTubeVideo at 0x7f59716eeb50>"
            ],
            "image/jpeg": "[encoded data removed]"
          },
          "metadata": {},
          "execution_count": 35
        }
      ]
    },
    {
      "cell_type": "markdown",
      "metadata": {
        "id": "RE2UAF0wzCvQ"
      },
      "source": [
        "###Here's the complete architecture of your model:"
      ]
    },
    {
      "cell_type": "code",
      "metadata": {
        "colab": {
          "base_uri": "https://localhost:8080/"
        },
        "id": "XsTRNDrFFY7n",
        "outputId": "4659a590-0c7e-4850-ffc2-b38fa1941aaf"
      },
      "source": [
        "model = Model(inputs=[input], outputs=[output])\n",
        "model.summary()"
      ],
      "execution_count": null,
      "outputs": [
        {
          "output_type": "stream",
          "name": "stdout",
          "text": [
            "Model: \"model\"\n",
            "__________________________________________________________________________________________________\n",
            "Layer (type)                    Output Shape         Param #     Connected to                     \n",
            "==================================================================================================\n",
            "input_1 (InputLayer)            [(None, 32, 32, 3)]  0                                            \n",
            "__________________________________________________________________________________________________\n",
            "conv2d (Conv2D)                 (None, 32, 32, 64)   1728        input_1[0][0]                    \n",
            "__________________________________________________________________________________________________\n",
            "batch_normalization (BatchNorma (None, 32, 32, 64)   256         conv2d[0][0]                     \n",
            "__________________________________________________________________________________________________\n",
            "activation (Activation)         (None, 32, 32, 64)   0           batch_normalization[0][0]        \n",
            "__________________________________________________________________________________________________\n",
            "conv2d_1 (Conv2D)               (None, 32, 32, 32)   18432       activation[0][0]                 \n",
            "__________________________________________________________________________________________________\n",
            "concatenate (Concatenate)       (None, 32, 32, 96)   0           conv2d[0][0]                     \n",
            "                                                                 conv2d_1[0][0]                   \n",
            "__________________________________________________________________________________________________\n",
            "batch_normalization_1 (BatchNor (None, 32, 32, 96)   384         concatenate[0][0]                \n",
            "__________________________________________________________________________________________________\n",
            "activation_1 (Activation)       (None, 32, 32, 96)   0           batch_normalization_1[0][0]      \n",
            "__________________________________________________________________________________________________\n",
            "conv2d_2 (Conv2D)               (None, 32, 32, 32)   27648       activation_1[0][0]               \n",
            "__________________________________________________________________________________________________\n",
            "concatenate_1 (Concatenate)     (None, 32, 32, 128)  0           concatenate[0][0]                \n",
            "                                                                 conv2d_2[0][0]                   \n",
            "__________________________________________________________________________________________________\n",
            "batch_normalization_2 (BatchNor (None, 32, 32, 128)  512         concatenate_1[0][0]              \n",
            "__________________________________________________________________________________________________\n",
            "activation_2 (Activation)       (None, 32, 32, 128)  0           batch_normalization_2[0][0]      \n",
            "__________________________________________________________________________________________________\n",
            "conv2d_3 (Conv2D)               (None, 32, 32, 32)   36864       activation_2[0][0]               \n",
            "__________________________________________________________________________________________________\n",
            "concatenate_2 (Concatenate)     (None, 32, 32, 160)  0           concatenate_1[0][0]              \n",
            "                                                                 conv2d_3[0][0]                   \n",
            "__________________________________________________________________________________________________\n",
            "batch_normalization_3 (BatchNor (None, 32, 32, 160)  640         concatenate_2[0][0]              \n",
            "__________________________________________________________________________________________________\n",
            "activation_3 (Activation)       (None, 32, 32, 160)  0           batch_normalization_3[0][0]      \n",
            "__________________________________________________________________________________________________\n",
            "conv2d_4 (Conv2D)               (None, 32, 32, 32)   46080       activation_3[0][0]               \n",
            "__________________________________________________________________________________________________\n",
            "concatenate_3 (Concatenate)     (None, 32, 32, 192)  0           concatenate_2[0][0]              \n",
            "                                                                 conv2d_4[0][0]                   \n",
            "__________________________________________________________________________________________________\n",
            "batch_normalization_4 (BatchNor (None, 32, 32, 192)  768         concatenate_3[0][0]              \n",
            "__________________________________________________________________________________________________\n",
            "activation_4 (Activation)       (None, 32, 32, 192)  0           batch_normalization_4[0][0]      \n",
            "__________________________________________________________________________________________________\n",
            "conv2d_5 (Conv2D)               (None, 32, 32, 32)   55296       activation_4[0][0]               \n",
            "__________________________________________________________________________________________________\n",
            "concatenate_4 (Concatenate)     (None, 32, 32, 224)  0           concatenate_3[0][0]              \n",
            "                                                                 conv2d_5[0][0]                   \n",
            "__________________________________________________________________________________________________\n",
            "batch_normalization_5 (BatchNor (None, 32, 32, 224)  896         concatenate_4[0][0]              \n",
            "__________________________________________________________________________________________________\n",
            "activation_5 (Activation)       (None, 32, 32, 224)  0           batch_normalization_5[0][0]      \n",
            "__________________________________________________________________________________________________\n",
            "conv2d_6 (Conv2D)               (None, 32, 32, 32)   64512       activation_5[0][0]               \n",
            "__________________________________________________________________________________________________\n",
            "concatenate_5 (Concatenate)     (None, 32, 32, 256)  0           concatenate_4[0][0]              \n",
            "                                                                 conv2d_6[0][0]                   \n",
            "__________________________________________________________________________________________________\n",
            "batch_normalization_6 (BatchNor (None, 32, 32, 256)  1024        concatenate_5[0][0]              \n",
            "__________________________________________________________________________________________________\n",
            "activation_6 (Activation)       (None, 32, 32, 256)  0           batch_normalization_6[0][0]      \n",
            "__________________________________________________________________________________________________\n",
            "conv2d_7 (Conv2D)               (None, 32, 32, 32)   8192        activation_6[0][0]               \n",
            "__________________________________________________________________________________________________\n",
            "average_pooling2d (AveragePooli (None, 16, 16, 32)   0           conv2d_7[0][0]                   \n",
            "__________________________________________________________________________________________________\n",
            "batch_normalization_7 (BatchNor (None, 16, 16, 32)   128         average_pooling2d[0][0]          \n",
            "__________________________________________________________________________________________________\n",
            "activation_7 (Activation)       (None, 16, 16, 32)   0           batch_normalization_7[0][0]      \n",
            "__________________________________________________________________________________________________\n",
            "conv2d_8 (Conv2D)               (None, 16, 16, 32)   9216        activation_7[0][0]               \n",
            "__________________________________________________________________________________________________\n",
            "concatenate_6 (Concatenate)     (None, 16, 16, 64)   0           average_pooling2d[0][0]          \n",
            "                                                                 conv2d_8[0][0]                   \n",
            "__________________________________________________________________________________________________\n",
            "batch_normalization_8 (BatchNor (None, 16, 16, 64)   256         concatenate_6[0][0]              \n",
            "__________________________________________________________________________________________________\n",
            "activation_8 (Activation)       (None, 16, 16, 64)   0           batch_normalization_8[0][0]      \n",
            "__________________________________________________________________________________________________\n",
            "conv2d_9 (Conv2D)               (None, 16, 16, 32)   18432       activation_8[0][0]               \n",
            "__________________________________________________________________________________________________\n",
            "concatenate_7 (Concatenate)     (None, 16, 16, 96)   0           concatenate_6[0][0]              \n",
            "                                                                 conv2d_9[0][0]                   \n",
            "__________________________________________________________________________________________________\n",
            "batch_normalization_9 (BatchNor (None, 16, 16, 96)   384         concatenate_7[0][0]              \n",
            "__________________________________________________________________________________________________\n",
            "activation_9 (Activation)       (None, 16, 16, 96)   0           batch_normalization_9[0][0]      \n",
            "__________________________________________________________________________________________________\n",
            "conv2d_10 (Conv2D)              (None, 16, 16, 32)   27648       activation_9[0][0]               \n",
            "__________________________________________________________________________________________________\n",
            "concatenate_8 (Concatenate)     (None, 16, 16, 128)  0           concatenate_7[0][0]              \n",
            "                                                                 conv2d_10[0][0]                  \n",
            "__________________________________________________________________________________________________\n",
            "batch_normalization_10 (BatchNo (None, 16, 16, 128)  512         concatenate_8[0][0]              \n",
            "__________________________________________________________________________________________________\n",
            "activation_10 (Activation)      (None, 16, 16, 128)  0           batch_normalization_10[0][0]     \n",
            "__________________________________________________________________________________________________\n",
            "conv2d_11 (Conv2D)              (None, 16, 16, 32)   36864       activation_10[0][0]              \n",
            "__________________________________________________________________________________________________\n",
            "concatenate_9 (Concatenate)     (None, 16, 16, 160)  0           concatenate_8[0][0]              \n",
            "                                                                 conv2d_11[0][0]                  \n",
            "__________________________________________________________________________________________________\n",
            "batch_normalization_11 (BatchNo (None, 16, 16, 160)  640         concatenate_9[0][0]              \n",
            "__________________________________________________________________________________________________\n",
            "activation_11 (Activation)      (None, 16, 16, 160)  0           batch_normalization_11[0][0]     \n",
            "__________________________________________________________________________________________________\n",
            "conv2d_12 (Conv2D)              (None, 16, 16, 32)   46080       activation_11[0][0]              \n",
            "__________________________________________________________________________________________________\n",
            "concatenate_10 (Concatenate)    (None, 16, 16, 192)  0           concatenate_9[0][0]              \n",
            "                                                                 conv2d_12[0][0]                  \n",
            "__________________________________________________________________________________________________\n",
            "batch_normalization_12 (BatchNo (None, 16, 16, 192)  768         concatenate_10[0][0]             \n",
            "__________________________________________________________________________________________________\n",
            "activation_12 (Activation)      (None, 16, 16, 192)  0           batch_normalization_12[0][0]     \n",
            "__________________________________________________________________________________________________\n",
            "conv2d_13 (Conv2D)              (None, 16, 16, 32)   55296       activation_12[0][0]              \n",
            "__________________________________________________________________________________________________\n",
            "concatenate_11 (Concatenate)    (None, 16, 16, 224)  0           concatenate_10[0][0]             \n",
            "                                                                 conv2d_13[0][0]                  \n",
            "__________________________________________________________________________________________________\n",
            "batch_normalization_13 (BatchNo (None, 16, 16, 224)  896         concatenate_11[0][0]             \n",
            "__________________________________________________________________________________________________\n",
            "activation_13 (Activation)      (None, 16, 16, 224)  0           batch_normalization_13[0][0]     \n",
            "__________________________________________________________________________________________________\n",
            "conv2d_14 (Conv2D)              (None, 16, 16, 32)   7168        activation_13[0][0]              \n",
            "__________________________________________________________________________________________________\n",
            "average_pooling2d_1 (AveragePoo (None, 8, 8, 32)     0           conv2d_14[0][0]                  \n",
            "__________________________________________________________________________________________________\n",
            "batch_normalization_14 (BatchNo (None, 8, 8, 32)     128         average_pooling2d_1[0][0]        \n",
            "__________________________________________________________________________________________________\n",
            "activation_14 (Activation)      (None, 8, 8, 32)     0           batch_normalization_14[0][0]     \n",
            "__________________________________________________________________________________________________\n",
            "conv2d_15 (Conv2D)              (None, 8, 8, 32)     9216        activation_14[0][0]              \n",
            "__________________________________________________________________________________________________\n",
            "concatenate_12 (Concatenate)    (None, 8, 8, 64)     0           average_pooling2d_1[0][0]        \n",
            "                                                                 conv2d_15[0][0]                  \n",
            "__________________________________________________________________________________________________\n",
            "batch_normalization_15 (BatchNo (None, 8, 8, 64)     256         concatenate_12[0][0]             \n",
            "__________________________________________________________________________________________________\n",
            "activation_15 (Activation)      (None, 8, 8, 64)     0           batch_normalization_15[0][0]     \n",
            "__________________________________________________________________________________________________\n",
            "conv2d_16 (Conv2D)              (None, 8, 8, 32)     18432       activation_15[0][0]              \n",
            "__________________________________________________________________________________________________\n",
            "concatenate_13 (Concatenate)    (None, 8, 8, 96)     0           concatenate_12[0][0]             \n",
            "                                                                 conv2d_16[0][0]                  \n",
            "__________________________________________________________________________________________________\n",
            "batch_normalization_16 (BatchNo (None, 8, 8, 96)     384         concatenate_13[0][0]             \n",
            "__________________________________________________________________________________________________\n",
            "activation_16 (Activation)      (None, 8, 8, 96)     0           batch_normalization_16[0][0]     \n",
            "__________________________________________________________________________________________________\n",
            "conv2d_17 (Conv2D)              (None, 8, 8, 32)     27648       activation_16[0][0]              \n",
            "__________________________________________________________________________________________________\n",
            "concatenate_14 (Concatenate)    (None, 8, 8, 128)    0           concatenate_13[0][0]             \n",
            "                                                                 conv2d_17[0][0]                  \n",
            "__________________________________________________________________________________________________\n",
            "batch_normalization_17 (BatchNo (None, 8, 8, 128)    512         concatenate_14[0][0]             \n",
            "__________________________________________________________________________________________________\n",
            "activation_17 (Activation)      (None, 8, 8, 128)    0           batch_normalization_17[0][0]     \n",
            "__________________________________________________________________________________________________\n",
            "conv2d_18 (Conv2D)              (None, 8, 8, 32)     36864       activation_17[0][0]              \n",
            "__________________________________________________________________________________________________\n",
            "concatenate_15 (Concatenate)    (None, 8, 8, 160)    0           concatenate_14[0][0]             \n",
            "                                                                 conv2d_18[0][0]                  \n",
            "__________________________________________________________________________________________________\n",
            "batch_normalization_18 (BatchNo (None, 8, 8, 160)    640         concatenate_15[0][0]             \n",
            "__________________________________________________________________________________________________\n",
            "activation_18 (Activation)      (None, 8, 8, 160)    0           batch_normalization_18[0][0]     \n",
            "__________________________________________________________________________________________________\n",
            "conv2d_19 (Conv2D)              (None, 8, 8, 32)     46080       activation_18[0][0]              \n",
            "__________________________________________________________________________________________________\n",
            "concatenate_16 (Concatenate)    (None, 8, 8, 192)    0           concatenate_15[0][0]             \n",
            "                                                                 conv2d_19[0][0]                  \n",
            "__________________________________________________________________________________________________\n",
            "batch_normalization_19 (BatchNo (None, 8, 8, 192)    768         concatenate_16[0][0]             \n",
            "__________________________________________________________________________________________________\n",
            "activation_19 (Activation)      (None, 8, 8, 192)    0           batch_normalization_19[0][0]     \n",
            "__________________________________________________________________________________________________\n",
            "conv2d_20 (Conv2D)              (None, 8, 8, 32)     55296       activation_19[0][0]              \n",
            "__________________________________________________________________________________________________\n",
            "concatenate_17 (Concatenate)    (None, 8, 8, 224)    0           concatenate_16[0][0]             \n",
            "                                                                 conv2d_20[0][0]                  \n",
            "__________________________________________________________________________________________________\n",
            "batch_normalization_20 (BatchNo (None, 8, 8, 224)    896         concatenate_17[0][0]             \n",
            "__________________________________________________________________________________________________\n",
            "activation_20 (Activation)      (None, 8, 8, 224)    0           batch_normalization_20[0][0]     \n",
            "__________________________________________________________________________________________________\n",
            "conv2d_21 (Conv2D)              (None, 8, 8, 32)     7168        activation_20[0][0]              \n",
            "__________________________________________________________________________________________________\n",
            "average_pooling2d_2 (AveragePoo (None, 4, 4, 32)     0           conv2d_21[0][0]                  \n",
            "__________________________________________________________________________________________________\n",
            "batch_normalization_21 (BatchNo (None, 4, 4, 32)     128         average_pooling2d_2[0][0]        \n",
            "__________________________________________________________________________________________________\n",
            "activation_21 (Activation)      (None, 4, 4, 32)     0           batch_normalization_21[0][0]     \n",
            "__________________________________________________________________________________________________\n",
            "conv2d_22 (Conv2D)              (None, 4, 4, 32)     9216        activation_21[0][0]              \n",
            "__________________________________________________________________________________________________\n",
            "concatenate_18 (Concatenate)    (None, 4, 4, 64)     0           average_pooling2d_2[0][0]        \n",
            "                                                                 conv2d_22[0][0]                  \n",
            "__________________________________________________________________________________________________\n",
            "batch_normalization_22 (BatchNo (None, 4, 4, 64)     256         concatenate_18[0][0]             \n",
            "__________________________________________________________________________________________________\n",
            "activation_22 (Activation)      (None, 4, 4, 64)     0           batch_normalization_22[0][0]     \n",
            "__________________________________________________________________________________________________\n",
            "conv2d_23 (Conv2D)              (None, 4, 4, 32)     18432       activation_22[0][0]              \n",
            "__________________________________________________________________________________________________\n",
            "concatenate_19 (Concatenate)    (None, 4, 4, 96)     0           concatenate_18[0][0]             \n",
            "                                                                 conv2d_23[0][0]                  \n",
            "__________________________________________________________________________________________________\n",
            "batch_normalization_23 (BatchNo (None, 4, 4, 96)     384         concatenate_19[0][0]             \n",
            "__________________________________________________________________________________________________\n",
            "activation_23 (Activation)      (None, 4, 4, 96)     0           batch_normalization_23[0][0]     \n",
            "__________________________________________________________________________________________________\n",
            "conv2d_24 (Conv2D)              (None, 4, 4, 32)     27648       activation_23[0][0]              \n",
            "__________________________________________________________________________________________________\n",
            "concatenate_20 (Concatenate)    (None, 4, 4, 128)    0           concatenate_19[0][0]             \n",
            "                                                                 conv2d_24[0][0]                  \n",
            "__________________________________________________________________________________________________\n",
            "batch_normalization_24 (BatchNo (None, 4, 4, 128)    512         concatenate_20[0][0]             \n",
            "__________________________________________________________________________________________________\n",
            "activation_24 (Activation)      (None, 4, 4, 128)    0           batch_normalization_24[0][0]     \n",
            "__________________________________________________________________________________________________\n",
            "conv2d_25 (Conv2D)              (None, 4, 4, 32)     36864       activation_24[0][0]              \n",
            "__________________________________________________________________________________________________\n",
            "concatenate_21 (Concatenate)    (None, 4, 4, 160)    0           concatenate_20[0][0]             \n",
            "                                                                 conv2d_25[0][0]                  \n",
            "__________________________________________________________________________________________________\n",
            "batch_normalization_25 (BatchNo (None, 4, 4, 160)    640         concatenate_21[0][0]             \n",
            "__________________________________________________________________________________________________\n",
            "activation_25 (Activation)      (None, 4, 4, 160)    0           batch_normalization_25[0][0]     \n",
            "__________________________________________________________________________________________________\n",
            "conv2d_26 (Conv2D)              (None, 4, 4, 32)     46080       activation_25[0][0]              \n",
            "__________________________________________________________________________________________________\n",
            "concatenate_22 (Concatenate)    (None, 4, 4, 192)    0           concatenate_21[0][0]             \n",
            "                                                                 conv2d_26[0][0]                  \n",
            "__________________________________________________________________________________________________\n",
            "batch_normalization_26 (BatchNo (None, 4, 4, 192)    768         concatenate_22[0][0]             \n",
            "__________________________________________________________________________________________________\n",
            "activation_26 (Activation)      (None, 4, 4, 192)    0           batch_normalization_26[0][0]     \n",
            "__________________________________________________________________________________________________\n",
            "conv2d_27 (Conv2D)              (None, 4, 4, 32)     55296       activation_26[0][0]              \n",
            "__________________________________________________________________________________________________\n",
            "concatenate_23 (Concatenate)    (None, 4, 4, 224)    0           concatenate_22[0][0]             \n",
            "                                                                 conv2d_27[0][0]                  \n",
            "__________________________________________________________________________________________________\n",
            "batch_normalization_27 (BatchNo (None, 4, 4, 224)    896         concatenate_23[0][0]             \n",
            "__________________________________________________________________________________________________\n",
            "activation_27 (Activation)      (None, 4, 4, 224)    0           batch_normalization_27[0][0]     \n",
            "__________________________________________________________________________________________________\n",
            "conv2d_28 (Conv2D)              (None, 4, 4, 14)     3136        activation_27[0][0]              \n",
            "__________________________________________________________________________________________________\n",
            "average_pooling2d_3 (AveragePoo (None, 2, 2, 14)     0           conv2d_28[0][0]                  \n",
            "__________________________________________________________________________________________________\n",
            "flatten (Flatten)               (None, 56)           0           average_pooling2d_3[0][0]        \n",
            "__________________________________________________________________________________________________\n",
            "dense (Dense)                   (None, 10)           570         flatten[0][0]                    \n",
            "==================================================================================================\n",
            "Total params: 872,634\n",
            "Trainable params: 865,018\n",
            "Non-trainable params: 7,616\n",
            "__________________________________________________________________________________________________\n"
          ]
        }
      ]
    },
    {
      "cell_type": "markdown",
      "metadata": {
        "id": "jfH0PRxXHvAn"
      },
      "source": [
        "As we seen Total parameter is less than 1 millon which satisfy our assignment condition, So we can processed next operation."
      ]
    },
    {
      "cell_type": "code",
      "metadata": {
        "colab": {
          "base_uri": "https://localhost:8080/"
        },
        "id": "5Lo-mPODTjX5",
        "outputId": "724c1bf3-7479-4e5e-b899-2677c1f3928c"
      },
      "source": [
        "print(f\"Number of layers in model: {len(model.layers)}\")"
      ],
      "execution_count": null,
      "outputs": [
        {
          "output_type": "stream",
          "name": "stdout",
          "text": [
            "Number of layers in model: 116\n"
          ]
        }
      ]
    },
    {
      "cell_type": "code",
      "metadata": {
        "id": "Rilqqu9gZzuj"
      },
      "source": [
        "import warnings \n",
        "warnings.filterwarnings(\"ignore\")"
      ],
      "execution_count": null,
      "outputs": []
    },
    {
      "cell_type": "code",
      "metadata": {
        "id": "jFJ1zwLKY_Vl"
      },
      "source": [
        "import os\n",
        "checkpoint_path = \"/content/gdrive/MyDrive/cifar-10/cp1-{epoch:04d}.ckpt\"\n",
        "checkpoint_dir = os.path.dirname(checkpoint_path)\n",
        "\n",
        "\n",
        "cp_callback = tf.keras.callbacks.ModelCheckpoint(\n",
        "    checkpoint_path, verbose=1, save_weights_only=True)"
      ],
      "execution_count": null,
      "outputs": []
    },
    {
      "cell_type": "markdown",
      "metadata": {
        "id": "zRtBuaG5y0NM"
      },
      "source": [
        "###Compile the model"
      ]
    },
    {
      "cell_type": "code",
      "metadata": {
        "id": "T-ZD1KiTDjh4"
      },
      "source": [
        "from tensorflow.keras.optimizers import SGD\n",
        "# compile model\n",
        "opt = SGD(lr=0.001, momentum=0.9)\n",
        "model.compile(optimizer=opt, loss='categorical_crossentropy', metrics=['accuracy'])"
      ],
      "execution_count": null,
      "outputs": []
    },
    {
      "cell_type": "code",
      "metadata": {
        "colab": {
          "base_uri": "https://localhost:8080/",
          "height": 0
        },
        "id": "dCBsJg2d6TYY",
        "outputId": "1cb08664-d962-452c-d660-05019ab22bd6"
      },
      "source": [
        "steps_per_epoch = X_train.shape[0]//batch_size\n",
        "steps_per_epoch"
      ],
      "execution_count": 20,
      "outputs": [
        {
          "output_type": "execute_result",
          "data": {
            "text/plain": [
              "390"
            ]
          },
          "metadata": {},
          "execution_count": 20
        }
      ]
    },
    {
      "cell_type": "markdown",
      "metadata": {
        "id": "tSwfpG1T-6SG"
      },
      "source": [
        "###Prepare Pixel Data\n",
        "We know that the pixel values for each image in the dataset are unsigned integers in the range between no color and full color, or 0 and 255.\n",
        "\n",
        "The prep_pixels() function below implement these behaviors and is provided with the pixel values for both the train and test datasets that will need to be scaled."
      ]
    },
    {
      "cell_type": "code",
      "metadata": {
        "id": "R4anduN_hESm"
      },
      "source": [
        "#https://machinelearningmastery.com/how-to-develop-a-cnn-from-scratch-for-cifar-10-photo-classification/\n",
        "# scale pixels\n",
        "def prep_pixels(train, test):\n",
        "\t# convert from integers to floats\n",
        "\ttrain_norm = train.astype('float32')\n",
        "\ttest_norm = test.astype('float32')\n",
        "\t# normalize to range 0-1\n",
        "\ttrain_norm = train_norm / 255.0\n",
        "\ttest_norm = test_norm / 255.0\n",
        "\t# return normalized images\n",
        "\treturn train_norm, test_norm"
      ],
      "execution_count": 21,
      "outputs": []
    },
    {
      "cell_type": "code",
      "metadata": {
        "id": "SSB-xkPxwFvg"
      },
      "source": [
        "# prepare pixel data\n",
        "X_train,X_test=prep_pixels(X_train,X_test)"
      ],
      "execution_count": 22,
      "outputs": []
    },
    {
      "cell_type": "markdown",
      "metadata": {
        "id": "Irmaa2FXy78Q"
      },
      "source": [
        "###train the model"
      ]
    },
    {
      "cell_type": "code",
      "metadata": {
        "colab": {
          "base_uri": "https://localhost:8080/"
        },
        "id": "3rZaA6jbw1Em",
        "outputId": "c86092e3-1940-43a1-e4a0-bfea8d5a626d"
      },
      "source": [
        "#https://machinelearningmastery.com/check-point-deep-learning-models-keras/\n",
        "from keras.callbacks import ModelCheckpoint\n",
        "\n",
        "history = model.fit_generator(datagen.flow(X_train, y_train, batch_size=batch_size),steps_per_epoch=X_train.shape[0]//batch_size,\n",
        "    epochs=epochs,\n",
        "    verbose = 1,validation_steps = X_test.shape[0]//batch_size,\n",
        "    validation_data=(X_test, y_test),callbacks=[cp_callback])"
      ],
      "execution_count": null,
      "outputs": [
        {
          "output_type": "stream",
          "name": "stdout",
          "text": [
            "Epoch 1/30\n",
            "390/390 [==============================] - 122s 312ms/step - loss: 1.6138 - accuracy: 0.4078 - val_loss: 2.2950 - val_accuracy: 0.2658\n",
            "\n",
            "Epoch 00001: saving model to /content/gdrive/MyDrive/cifar-10/cp1-0001.ckpt\n",
            "Epoch 2/30\n",
            "390/390 [==============================] - 116s 298ms/step - loss: 1.3914 - accuracy: 0.4969 - val_loss: 1.9232 - val_accuracy: 0.3896\n",
            "\n",
            "Epoch 00002: saving model to /content/gdrive/MyDrive/cifar-10/cp1-0002.ckpt\n",
            "Epoch 3/30\n",
            "390/390 [==============================] - 116s 298ms/step - loss: 1.2650 - accuracy: 0.5461 - val_loss: 1.4474 - val_accuracy: 0.4990\n",
            "\n",
            "Epoch 00003: saving model to /content/gdrive/MyDrive/cifar-10/cp1-0003.ckpt\n",
            "Epoch 4/30\n",
            "390/390 [==============================] - 117s 298ms/step - loss: 1.1738 - accuracy: 0.5828 - val_loss: 1.5699 - val_accuracy: 0.4730\n",
            "\n",
            "Epoch 00004: saving model to /content/gdrive/MyDrive/cifar-10/cp1-0004.ckpt\n",
            "Epoch 5/30\n",
            "390/390 [==============================] - 116s 298ms/step - loss: 1.1063 - accuracy: 0.6044 - val_loss: 1.4309 - val_accuracy: 0.5190\n",
            "\n",
            "Epoch 00005: saving model to /content/gdrive/MyDrive/cifar-10/cp1-0005.ckpt\n",
            "Epoch 6/30\n",
            "390/390 [==============================] - 117s 299ms/step - loss: 1.0381 - accuracy: 0.6276 - val_loss: 1.1405 - val_accuracy: 0.5920\n",
            "\n",
            "Epoch 00006: saving model to /content/gdrive/MyDrive/cifar-10/cp1-0006.ckpt\n",
            "Epoch 7/30\n",
            "390/390 [==============================] - 117s 299ms/step - loss: 0.9878 - accuracy: 0.6474 - val_loss: 1.4703 - val_accuracy: 0.5464\n",
            "\n",
            "Epoch 00007: saving model to /content/gdrive/MyDrive/cifar-10/cp1-0007.ckpt\n",
            "Epoch 8/30\n",
            "390/390 [==============================] - 116s 298ms/step - loss: 0.9438 - accuracy: 0.6658 - val_loss: 1.1785 - val_accuracy: 0.5969\n",
            "\n",
            "Epoch 00008: saving model to /content/gdrive/MyDrive/cifar-10/cp1-0008.ckpt\n",
            "Epoch 9/30\n",
            "390/390 [==============================] - 117s 299ms/step - loss: 0.8987 - accuracy: 0.6819 - val_loss: 0.9015 - val_accuracy: 0.6801\n",
            "\n",
            "Epoch 00009: saving model to /content/gdrive/MyDrive/cifar-10/cp1-0009.ckpt\n",
            "Epoch 10/30\n",
            "390/390 [==============================] - 117s 299ms/step - loss: 0.8622 - accuracy: 0.6939 - val_loss: 0.9383 - val_accuracy: 0.6723\n",
            "\n",
            "Epoch 00010: saving model to /content/gdrive/MyDrive/cifar-10/cp1-0010.ckpt\n",
            "Epoch 11/30\n",
            "390/390 [==============================] - 116s 298ms/step - loss: 0.8246 - accuracy: 0.7069 - val_loss: 0.8496 - val_accuracy: 0.7044\n",
            "\n",
            "Epoch 00011: saving model to /content/gdrive/MyDrive/cifar-10/cp1-0011.ckpt\n",
            "Epoch 12/30\n",
            "390/390 [==============================] - 116s 298ms/step - loss: 0.7965 - accuracy: 0.7191 - val_loss: 0.9373 - val_accuracy: 0.6912\n",
            "\n",
            "Epoch 00012: saving model to /content/gdrive/MyDrive/cifar-10/cp1-0012.ckpt\n",
            "Epoch 13/30\n",
            "390/390 [==============================] - 117s 299ms/step - loss: 0.7697 - accuracy: 0.7298 - val_loss: 1.0353 - val_accuracy: 0.6582\n",
            "\n",
            "Epoch 00013: saving model to /content/gdrive/MyDrive/cifar-10/cp1-0013.ckpt\n",
            "Epoch 14/30\n",
            "390/390 [==============================] - 116s 298ms/step - loss: 0.7397 - accuracy: 0.7412 - val_loss: 0.9573 - val_accuracy: 0.6920\n",
            "\n",
            "Epoch 00014: saving model to /content/gdrive/MyDrive/cifar-10/cp1-0014.ckpt\n",
            "Epoch 15/30\n",
            "390/390 [==============================] - 116s 297ms/step - loss: 0.7259 - accuracy: 0.7464 - val_loss: 1.2327 - val_accuracy: 0.6186\n",
            "\n",
            "Epoch 00015: saving model to /content/gdrive/MyDrive/cifar-10/cp1-0015.ckpt\n",
            "Epoch 16/30\n",
            "390/390 [==============================] - 116s 298ms/step - loss: 0.6969 - accuracy: 0.7566 - val_loss: 0.8011 - val_accuracy: 0.7305\n",
            "\n",
            "Epoch 00016: saving model to /content/gdrive/MyDrive/cifar-10/cp1-0016.ckpt\n",
            "Epoch 17/30\n",
            "390/390 [==============================] - 116s 298ms/step - loss: 0.6763 - accuracy: 0.7635 - val_loss: 0.6914 - val_accuracy: 0.7695\n",
            "\n",
            "Epoch 00017: saving model to /content/gdrive/MyDrive/cifar-10/cp1-0017.ckpt\n",
            "Epoch 18/30\n",
            "390/390 [==============================] - 116s 298ms/step - loss: 0.6629 - accuracy: 0.7686 - val_loss: 0.7695 - val_accuracy: 0.7396\n",
            "\n",
            "Epoch 00018: saving model to /content/gdrive/MyDrive/cifar-10/cp1-0018.ckpt\n",
            "Epoch 19/30\n",
            "390/390 [==============================] - 116s 298ms/step - loss: 0.6492 - accuracy: 0.7731 - val_loss: 0.8265 - val_accuracy: 0.7215\n",
            "\n",
            "Epoch 00019: saving model to /content/gdrive/MyDrive/cifar-10/cp1-0019.ckpt\n",
            "Epoch 20/30\n",
            "390/390 [==============================] - 116s 298ms/step - loss: 0.6287 - accuracy: 0.7791 - val_loss: 0.7289 - val_accuracy: 0.7528\n",
            "\n",
            "Epoch 00020: saving model to /content/gdrive/MyDrive/cifar-10/cp1-0020.ckpt\n",
            "Epoch 21/30\n",
            "390/390 [==============================] - 116s 298ms/step - loss: 0.6181 - accuracy: 0.7844 - val_loss: 0.7229 - val_accuracy: 0.7591\n",
            "\n",
            "Epoch 00021: saving model to /content/gdrive/MyDrive/cifar-10/cp1-0021.ckpt\n",
            "Epoch 22/30\n",
            "390/390 [==============================] - 117s 299ms/step - loss: 0.5999 - accuracy: 0.7911 - val_loss: 0.9329 - val_accuracy: 0.7074\n",
            "\n",
            "Epoch 00022: saving model to /content/gdrive/MyDrive/cifar-10/cp1-0022.ckpt\n",
            "Epoch 23/30\n",
            "390/390 [==============================] - 117s 298ms/step - loss: 0.5858 - accuracy: 0.7962 - val_loss: 0.6653 - val_accuracy: 0.7790\n",
            "\n",
            "Epoch 00023: saving model to /content/gdrive/MyDrive/cifar-10/cp1-0023.ckpt\n",
            "Epoch 24/30\n",
            "390/390 [==============================] - 116s 298ms/step - loss: 0.5761 - accuracy: 0.7984 - val_loss: 0.7345 - val_accuracy: 0.7608\n",
            "\n",
            "Epoch 00024: saving model to /content/gdrive/MyDrive/cifar-10/cp1-0024.ckpt\n",
            "Epoch 25/30\n",
            "390/390 [==============================] - 116s 298ms/step - loss: 0.5619 - accuracy: 0.8035 - val_loss: 0.6647 - val_accuracy: 0.7806\n",
            "\n",
            "Epoch 00025: saving model to /content/gdrive/MyDrive/cifar-10/cp1-0025.ckpt\n",
            "Epoch 26/30\n",
            "390/390 [==============================] - 116s 298ms/step - loss: 0.5527 - accuracy: 0.8098 - val_loss: 0.7742 - val_accuracy: 0.7528\n",
            "\n",
            "Epoch 00026: saving model to /content/gdrive/MyDrive/cifar-10/cp1-0026.ckpt\n",
            "Epoch 27/30\n",
            "390/390 [==============================] - 116s 298ms/step - loss: 0.5379 - accuracy: 0.8128 - val_loss: 0.7909 - val_accuracy: 0.7400\n",
            "\n",
            "Epoch 00027: saving model to /content/gdrive/MyDrive/cifar-10/cp1-0027.ckpt\n",
            "Epoch 28/30\n",
            "390/390 [==============================] - 116s 298ms/step - loss: 0.5307 - accuracy: 0.8147 - val_loss: 0.7465 - val_accuracy: 0.7567\n",
            "\n",
            "Epoch 00028: saving model to /content/gdrive/MyDrive/cifar-10/cp1-0028.ckpt\n",
            "Epoch 29/30\n",
            "390/390 [==============================] - 116s 298ms/step - loss: 0.5268 - accuracy: 0.8177 - val_loss: 0.7521 - val_accuracy: 0.7533\n",
            "\n",
            "Epoch 00029: saving model to /content/gdrive/MyDrive/cifar-10/cp1-0029.ckpt\n",
            "Epoch 30/30\n",
            "390/390 [==============================] - 116s 298ms/step - loss: 0.5135 - accuracy: 0.8206 - val_loss: 0.8106 - val_accuracy: 0.7529\n",
            "\n",
            "Epoch 00030: saving model to /content/gdrive/MyDrive/cifar-10/cp1-0030.ckpt\n"
          ]
        }
      ]
    },
    {
      "cell_type": "code",
      "metadata": {
        "id": "Acl7vsqRxHcB",
        "colab": {
          "base_uri": "https://localhost:8080/"
        },
        "outputId": "efd129a1-b017-43c5-c8a0-167f51fc5047"
      },
      "source": [
        "# Test the model\n",
        "score = model.evaluate(X_test, y_test, verbose=1)\n",
        "print('Test loss:', score[0])\n",
        "print('Test accuracy:', score[1])"
      ],
      "execution_count": null,
      "outputs": [
        {
          "output_type": "stream",
          "name": "stdout",
          "text": [
            "313/313 [==============================] - 10s 30ms/step - loss: 0.8106 - accuracy: 0.7529\n",
            "Test loss: 0.8105748295783997\n",
            "Test accuracy: 0.7529000043869019\n"
          ]
        }
      ]
    },
    {
      "cell_type": "code",
      "metadata": {
        "colab": {
          "base_uri": "https://localhost:8080/",
          "height": 0
        },
        "id": "nakxseYKePis",
        "outputId": "59ad36dd-d1f8-40be-fff2-5ffd4200f470"
      },
      "source": [
        "model.load_weights('/content/gdrive/MyDrive/cifar-10/cp1-0030.ckpt')"
      ],
      "execution_count": 33,
      "outputs": [
        {
          "output_type": "execute_result",
          "data": {
            "text/plain": [
              "<tensorflow.python.training.tracking.util.CheckpointLoadStatus at 0x7f59717d5490>"
            ]
          },
          "metadata": {},
          "execution_count": 33
        }
      ]
    },
    {
      "cell_type": "code",
      "metadata": {
        "colab": {
          "base_uri": "https://localhost:8080/"
        },
        "id": "7JtMLW9_XVnk",
        "outputId": "48f45d67-f03c-4bfb-f495-d7678340e09f"
      },
      "source": [
        "# Save the trained weights in to .h5 format\n",
        "model.save_weights(\"model_dense.h5\")\n",
        "print(\"Saved model to disk\")"
      ],
      "execution_count": null,
      "outputs": [
        {
          "output_type": "stream",
          "name": "stdout",
          "text": [
            "Saved model to disk\n"
          ]
        }
      ]
    },
    {
      "cell_type": "markdown",
      "metadata": {
        "id": "JmaRv78H6FwJ"
      },
      "source": [
        "<pre><font size=4>As we seen above we get that we don't Get Good accuracy with This Parameter.\n",
        "Now instead of using sgd we used Adam compiler with same parameter let's see what happend.\n",
        "Adam compiler beacuse Adam is the best optimizers. If one wants to train the neural network in less time and more efficiently than Adam is the optimizer. "
      ]
    },
    {
      "cell_type": "code",
      "metadata": {
        "id": "_CcDmWaLX6Mm"
      },
      "source": [
        "#checkpoints after 30th epoch\n",
        "import os\n",
        "checkpoint_path = \"/content/gdrive/My Drive/densenet_training/cp1-30-{epoch:04d}.ckpt\"\n",
        "checkpoint_dir = os.path.dirname(checkpoint_path)\n",
        "\n",
        "\n",
        "cp_callback = tf.keras.callbacks.ModelCheckpoint(\n",
        "    checkpoint_path, verbose=1, save_weights_only=True)"
      ],
      "execution_count": null,
      "outputs": []
    },
    {
      "cell_type": "code",
      "metadata": {
        "id": "7vXxQBHwYJfa"
      },
      "source": [
        "# determine Loss function and Optimizer\n",
        "model.compile(loss='categorical_crossentropy',\n",
        "              optimizer=Adam(),\n",
        "              metrics=['accuracy'])"
      ],
      "execution_count": null,
      "outputs": []
    },
    {
      "cell_type": "code",
      "metadata": {
        "id": "lqe_fed5YM0Y",
        "colab": {
          "base_uri": "https://localhost:8080/"
        },
        "outputId": "1924666d-8521-4af2-dfa0-cf8e7692bc21"
      },
      "source": [
        "#https://machinelearningmastery.com/check-point-deep-learning-models-keras/\n",
        "from keras.callbacks import ModelCheckpoint\n",
        "\n",
        "history = model.fit_generator(datagen.flow(X_train, y_train, batch_size=batch_size),steps_per_epoch=X_train.shape[0]//batch_size,\n",
        "    epochs=20,\n",
        "    verbose = 1,validation_steps = X_test.shape[0]//batch_size,\n",
        "    validation_data=(X_test, y_test),callbacks=[cp_callback])"
      ],
      "execution_count": null,
      "outputs": [
        {
          "output_type": "stream",
          "name": "stdout",
          "text": [
            "Epoch 1/20\n",
            "390/390 [==============================] - 119s 297ms/step - loss: 0.8696 - accuracy: 0.6972 - val_loss: 1.5353 - val_accuracy: 0.5845\n",
            "\n",
            "Epoch 00001: saving model to /content/gdrive/My Drive/densenet_training/cp1-30-0001.ckpt\n",
            "Epoch 2/20\n",
            "390/390 [==============================] - 115s 295ms/step - loss: 0.6996 - accuracy: 0.7579 - val_loss: 1.6346 - val_accuracy: 0.5609\n",
            "\n",
            "Epoch 00002: saving model to /content/gdrive/My Drive/densenet_training/cp1-30-0002.ckpt\n",
            "Epoch 3/20\n",
            "390/390 [==============================] - 115s 295ms/step - loss: 0.6285 - accuracy: 0.7819 - val_loss: 1.7079 - val_accuracy: 0.5569\n",
            "\n",
            "Epoch 00003: saving model to /content/gdrive/My Drive/densenet_training/cp1-30-0003.ckpt\n",
            "Epoch 4/20\n",
            "390/390 [==============================] - 115s 296ms/step - loss: 0.5761 - accuracy: 0.7995 - val_loss: 1.1977 - val_accuracy: 0.6701\n",
            "\n",
            "Epoch 00004: saving model to /content/gdrive/My Drive/densenet_training/cp1-30-0004.ckpt\n",
            "Epoch 5/20\n",
            "390/390 [==============================] - 115s 295ms/step - loss: 0.5371 - accuracy: 0.8147 - val_loss: 0.7436 - val_accuracy: 0.7578\n",
            "\n",
            "Epoch 00005: saving model to /content/gdrive/My Drive/densenet_training/cp1-30-0005.ckpt\n",
            "Epoch 6/20\n",
            "390/390 [==============================] - 115s 295ms/step - loss: 0.5123 - accuracy: 0.8223 - val_loss: 0.7337 - val_accuracy: 0.7661\n",
            "\n",
            "Epoch 00006: saving model to /content/gdrive/My Drive/densenet_training/cp1-30-0006.ckpt\n",
            "Epoch 7/20\n",
            "390/390 [==============================] - 115s 294ms/step - loss: 0.4873 - accuracy: 0.8310 - val_loss: 0.7101 - val_accuracy: 0.7692\n",
            "\n",
            "Epoch 00007: saving model to /content/gdrive/My Drive/densenet_training/cp1-30-0007.ckpt\n",
            "Epoch 8/20\n",
            "390/390 [==============================] - 116s 296ms/step - loss: 0.4645 - accuracy: 0.8398 - val_loss: 0.9037 - val_accuracy: 0.7272\n",
            "\n",
            "Epoch 00008: saving model to /content/gdrive/My Drive/densenet_training/cp1-30-0008.ckpt\n",
            "Epoch 9/20\n",
            "390/390 [==============================] - 115s 295ms/step - loss: 0.4395 - accuracy: 0.8476 - val_loss: 0.8958 - val_accuracy: 0.7379\n",
            "\n",
            "Epoch 00009: saving model to /content/gdrive/My Drive/densenet_training/cp1-30-0009.ckpt\n",
            "Epoch 10/20\n",
            "390/390 [==============================] - 115s 296ms/step - loss: 0.4202 - accuracy: 0.8538 - val_loss: 0.7457 - val_accuracy: 0.7747\n",
            "\n",
            "Epoch 00010: saving model to /content/gdrive/My Drive/densenet_training/cp1-30-0010.ckpt\n",
            "Epoch 11/20\n",
            "390/390 [==============================] - 115s 296ms/step - loss: 0.4035 - accuracy: 0.8615 - val_loss: 0.6427 - val_accuracy: 0.7984\n",
            "\n",
            "Epoch 00011: saving model to /content/gdrive/My Drive/densenet_training/cp1-30-0011.ckpt\n",
            "Epoch 12/20\n",
            "390/390 [==============================] - 115s 296ms/step - loss: 0.3844 - accuracy: 0.8675 - val_loss: 0.9176 - val_accuracy: 0.7556\n",
            "\n",
            "Epoch 00012: saving model to /content/gdrive/My Drive/densenet_training/cp1-30-0012.ckpt\n",
            "Epoch 13/20\n",
            "390/390 [==============================] - 115s 296ms/step - loss: 0.3708 - accuracy: 0.8715 - val_loss: 0.6523 - val_accuracy: 0.7954\n",
            "\n",
            "Epoch 00013: saving model to /content/gdrive/My Drive/densenet_training/cp1-30-0013.ckpt\n",
            "Epoch 14/20\n",
            "390/390 [==============================] - 116s 296ms/step - loss: 0.3608 - accuracy: 0.8757 - val_loss: 0.9610 - val_accuracy: 0.7308\n",
            "\n",
            "Epoch 00014: saving model to /content/gdrive/My Drive/densenet_training/cp1-30-0014.ckpt\n",
            "Epoch 15/20\n",
            "390/390 [==============================] - 115s 295ms/step - loss: 0.3534 - accuracy: 0.8770 - val_loss: 0.5472 - val_accuracy: 0.8170\n",
            "\n",
            "Epoch 00015: saving model to /content/gdrive/My Drive/densenet_training/cp1-30-0015.ckpt\n",
            "Epoch 16/20\n",
            "390/390 [==============================] - 115s 295ms/step - loss: 0.3395 - accuracy: 0.8826 - val_loss: 0.6105 - val_accuracy: 0.8109\n",
            "\n",
            "Epoch 00016: saving model to /content/gdrive/My Drive/densenet_training/cp1-30-0016.ckpt\n",
            "Epoch 17/20\n",
            "390/390 [==============================] - 115s 295ms/step - loss: 0.3293 - accuracy: 0.8862 - val_loss: 0.6379 - val_accuracy: 0.8074\n",
            "\n",
            "Epoch 00017: saving model to /content/gdrive/My Drive/densenet_training/cp1-30-0017.ckpt\n",
            "Epoch 18/20\n",
            "390/390 [==============================] - 115s 295ms/step - loss: 0.3210 - accuracy: 0.8887 - val_loss: 0.5456 - val_accuracy: 0.8288\n",
            "\n",
            "Epoch 00018: saving model to /content/gdrive/My Drive/densenet_training/cp1-30-0018.ckpt\n",
            "Epoch 19/20\n",
            "390/390 [==============================] - 115s 294ms/step - loss: 0.3089 - accuracy: 0.8931 - val_loss: 0.5003 - val_accuracy: 0.8396\n",
            "\n",
            "Epoch 00019: saving model to /content/gdrive/My Drive/densenet_training/cp1-30-0019.ckpt\n",
            "Epoch 20/20\n",
            "390/390 [==============================] - 115s 295ms/step - loss: 0.3049 - accuracy: 0.8934 - val_loss: 0.4141 - val_accuracy: 0.8600\n",
            "\n",
            "Epoch 00020: saving model to /content/gdrive/My Drive/densenet_training/cp1-30-0020.ckpt\n"
          ]
        }
      ]
    },
    {
      "cell_type": "code",
      "metadata": {
        "id": "Yy7smUkFYVVm",
        "colab": {
          "base_uri": "https://localhost:8080/"
        },
        "outputId": "cdf57216-6baf-49cb-9702-89db0d7a5007"
      },
      "source": [
        "model.load_weights('/content/gdrive/My Drive/densenet_training/cp1-30-0020.ckpt')"
      ],
      "execution_count": null,
      "outputs": [
        {
          "output_type": "execute_result",
          "data": {
            "text/plain": [
              "<tensorflow.python.training.tracking.util.CheckpointLoadStatus at 0x7f99c3ebfed0>"
            ]
          },
          "metadata": {},
          "execution_count": 38
        }
      ]
    },
    {
      "cell_type": "markdown",
      "metadata": {
        "id": "-QR875KJ7bPm"
      },
      "source": [
        "<pre><font size=4> Adam Give slightly Good output As compare to Sgd but we can't our expected output , so we have to it again.\n",
        "\n"
      ]
    },
    {
      "cell_type": "code",
      "metadata": {
        "id": "zE744EuJ0TVm"
      },
      "source": [
        "#checkpoints after 50th epoch\n",
        "import os\n",
        "checkpoint_path = \"/content/gdrive/My Drive/densenet_training/cp1-50-{epoch:04d}.ckpt\"\n",
        "checkpoint_dir = os.path.dirname(checkpoint_path)\n",
        "\n",
        "\n",
        "cp_callback = tf.keras.callbacks.ModelCheckpoint(\n",
        "    checkpoint_path, verbose=1, save_weights_only=True)"
      ],
      "execution_count": null,
      "outputs": []
    },
    {
      "cell_type": "code",
      "metadata": {
        "id": "f3M7tnh80d_6"
      },
      "source": [
        "# determine Loss function and Optimizer\n",
        "model.compile(loss='categorical_crossentropy',\n",
        "              optimizer=Adam(),\n",
        "              metrics=['accuracy'])"
      ],
      "execution_count": null,
      "outputs": []
    },
    {
      "cell_type": "code",
      "metadata": {
        "colab": {
          "base_uri": "https://localhost:8080/"
        },
        "id": "fr4J6VLD0hva",
        "outputId": "08b2f5c2-71cc-4fea-c11e-03436bfeeba4"
      },
      "source": [
        "#https://machinelearningmastery.com/check-point-deep-learning-models-keras/\n",
        "from keras.callbacks import ModelCheckpoint\n",
        "\n",
        "history = model.fit_generator(datagen.flow(X_train, y_train, batch_size=batch_size),steps_per_epoch=X_train.shape[0]//batch_size,\n",
        "    epochs=20,\n",
        "    verbose = 1,validation_steps = X_test.shape[0]//batch_size,\n",
        "    validation_data=(X_test, y_test),callbacks=[cp_callback])"
      ],
      "execution_count": null,
      "outputs": [
        {
          "output_type": "stream",
          "name": "stdout",
          "text": [
            "Epoch 1/20\n",
            "390/390 [==============================] - 153s 301ms/step - loss: 0.2897 - accuracy: 0.9002 - val_loss: 0.4589 - val_accuracy: 0.8526\n",
            "\n",
            "Epoch 00001: saving model to /content/gdrive/My Drive/densenet_training/cp1-50-0001.ckpt\n",
            "Epoch 2/20\n",
            "390/390 [==============================] - 113s 289ms/step - loss: 0.2866 - accuracy: 0.8999 - val_loss: 0.5989 - val_accuracy: 0.8117\n",
            "\n",
            "Epoch 00002: saving model to /content/gdrive/My Drive/densenet_training/cp1-50-0002.ckpt\n",
            "Epoch 3/20\n",
            "390/390 [==============================] - 113s 289ms/step - loss: 0.2787 - accuracy: 0.9039 - val_loss: 0.6315 - val_accuracy: 0.8153\n",
            "\n",
            "Epoch 00003: saving model to /content/gdrive/My Drive/densenet_training/cp1-50-0003.ckpt\n",
            "Epoch 4/20\n",
            "390/390 [==============================] - 113s 289ms/step - loss: 0.2761 - accuracy: 0.9031 - val_loss: 0.5167 - val_accuracy: 0.8404\n",
            "\n",
            "Epoch 00004: saving model to /content/gdrive/My Drive/densenet_training/cp1-50-0004.ckpt\n",
            "Epoch 5/20\n",
            "390/390 [==============================] - 113s 289ms/step - loss: 0.2631 - accuracy: 0.9079 - val_loss: 0.3900 - val_accuracy: 0.8745\n",
            "\n",
            "Epoch 00005: saving model to /content/gdrive/My Drive/densenet_training/cp1-50-0005.ckpt\n",
            "Epoch 6/20\n",
            "390/390 [==============================] - 113s 289ms/step - loss: 0.2617 - accuracy: 0.9082 - val_loss: 0.6050 - val_accuracy: 0.8146\n",
            "\n",
            "Epoch 00006: saving model to /content/gdrive/My Drive/densenet_training/cp1-50-0006.ckpt\n",
            "Epoch 7/20\n",
            "390/390 [==============================] - 113s 289ms/step - loss: 0.2541 - accuracy: 0.9124 - val_loss: 0.4514 - val_accuracy: 0.8543\n",
            "\n",
            "Epoch 00007: saving model to /content/gdrive/My Drive/densenet_training/cp1-50-0007.ckpt\n",
            "Epoch 8/20\n",
            "390/390 [==============================] - 113s 289ms/step - loss: 0.2427 - accuracy: 0.9149 - val_loss: 0.4653 - val_accuracy: 0.8625\n",
            "\n",
            "Epoch 00008: saving model to /content/gdrive/My Drive/densenet_training/cp1-50-0008.ckpt\n",
            "Epoch 9/20\n",
            "390/390 [==============================] - 113s 289ms/step - loss: 0.2387 - accuracy: 0.9153 - val_loss: 0.5038 - val_accuracy: 0.8456\n",
            "\n",
            "Epoch 00009: saving model to /content/gdrive/My Drive/densenet_training/cp1-50-0009.ckpt\n",
            "Epoch 10/20\n",
            "390/390 [==============================] - 113s 289ms/step - loss: 0.2349 - accuracy: 0.9178 - val_loss: 0.4659 - val_accuracy: 0.8612\n",
            "\n",
            "Epoch 00010: saving model to /content/gdrive/My Drive/densenet_training/cp1-50-0010.ckpt\n",
            "Epoch 11/20\n",
            "390/390 [==============================] - 113s 290ms/step - loss: 0.2310 - accuracy: 0.9179 - val_loss: 0.4173 - val_accuracy: 0.8696\n",
            "\n",
            "Epoch 00011: saving model to /content/gdrive/My Drive/densenet_training/cp1-50-0011.ckpt\n",
            "Epoch 12/20\n",
            "390/390 [==============================] - 113s 290ms/step - loss: 0.2265 - accuracy: 0.9217 - val_loss: 0.5266 - val_accuracy: 0.8448\n",
            "\n",
            "Epoch 00012: saving model to /content/gdrive/My Drive/densenet_training/cp1-50-0012.ckpt\n",
            "Epoch 13/20\n",
            "390/390 [==============================] - 114s 291ms/step - loss: 0.2185 - accuracy: 0.9235 - val_loss: 0.4805 - val_accuracy: 0.8519\n",
            "\n",
            "Epoch 00013: saving model to /content/gdrive/My Drive/densenet_training/cp1-50-0013.ckpt\n",
            "Epoch 14/20\n",
            "390/390 [==============================] - 113s 291ms/step - loss: 0.2143 - accuracy: 0.9247 - val_loss: 0.5341 - val_accuracy: 0.8493\n",
            "\n",
            "Epoch 00014: saving model to /content/gdrive/My Drive/densenet_training/cp1-50-0014.ckpt\n",
            "Epoch 15/20\n",
            "390/390 [==============================] - 113s 290ms/step - loss: 0.2099 - accuracy: 0.9260 - val_loss: 0.5716 - val_accuracy: 0.8343\n",
            "\n",
            "Epoch 00015: saving model to /content/gdrive/My Drive/densenet_training/cp1-50-0015.ckpt\n",
            "Epoch 16/20\n",
            "390/390 [==============================] - 113s 290ms/step - loss: 0.2092 - accuracy: 0.9269 - val_loss: 0.3928 - val_accuracy: 0.8751\n",
            "\n",
            "Epoch 00016: saving model to /content/gdrive/My Drive/densenet_training/cp1-50-0016.ckpt\n",
            "Epoch 17/20\n",
            "390/390 [==============================] - 113s 290ms/step - loss: 0.1992 - accuracy: 0.9301 - val_loss: 0.5090 - val_accuracy: 0.8578\n",
            "\n",
            "Epoch 00017: saving model to /content/gdrive/My Drive/densenet_training/cp1-50-0017.ckpt\n",
            "Epoch 18/20\n",
            "390/390 [==============================] - 113s 290ms/step - loss: 0.1999 - accuracy: 0.9310 - val_loss: 0.5595 - val_accuracy: 0.8475\n",
            "\n",
            "Epoch 00018: saving model to /content/gdrive/My Drive/densenet_training/cp1-50-0018.ckpt\n",
            "Epoch 19/20\n",
            "390/390 [==============================] - 113s 290ms/step - loss: 0.1932 - accuracy: 0.9326 - val_loss: 0.4974 - val_accuracy: 0.8606\n",
            "\n",
            "Epoch 00019: saving model to /content/gdrive/My Drive/densenet_training/cp1-50-0019.ckpt\n",
            "Epoch 20/20\n",
            "390/390 [==============================] - 113s 290ms/step - loss: 0.1874 - accuracy: 0.9349 - val_loss: 0.4036 - val_accuracy: 0.8816\n",
            "\n",
            "Epoch 00020: saving model to /content/gdrive/My Drive/densenet_training/cp1-50-0020.ckpt\n"
          ]
        }
      ]
    },
    {
      "cell_type": "code",
      "metadata": {
        "id": "HhLlw5ys0lP3",
        "colab": {
          "base_uri": "https://localhost:8080/"
        },
        "outputId": "c1adc65a-9e5b-4690-8c51-0945e6532dbb"
      },
      "source": [
        "model.load_weights('/content/gdrive/My Drive/densenet_training/cp1-50-0020.ckpt')"
      ],
      "execution_count": null,
      "outputs": [
        {
          "output_type": "execute_result",
          "data": {
            "text/plain": [
              "<tensorflow.python.training.tracking.util.CheckpointLoadStatus at 0x7f99bf2cf090>"
            ]
          },
          "metadata": {},
          "execution_count": 42
        }
      ]
    },
    {
      "cell_type": "markdown",
      "metadata": {
        "id": "y-FcchQi8EvM"
      },
      "source": [
        "<pre><font size=5>NOT GET OUR EXPECTED RESULT , WE HAVE TO GO AGAIN."
      ]
    },
    {
      "cell_type": "code",
      "metadata": {
        "id": "t2ojbTteh0FY"
      },
      "source": [
        "#checkpoints after 70th epoch\n",
        "import os\n",
        "checkpoint_path = \"/content/gdrive/My Drive/densenet_training/cp1-70-{epoch:04d}.ckpt\"\n",
        "checkpoint_dir = os.path.dirname(checkpoint_path)\n",
        "\n",
        "\n",
        "cp_callback = tf.keras.callbacks.ModelCheckpoint(\n",
        "    checkpoint_path, verbose=1, save_weights_only=True)"
      ],
      "execution_count": null,
      "outputs": []
    },
    {
      "cell_type": "code",
      "metadata": {
        "id": "9BHiURQHh64T"
      },
      "source": [
        "# determine Loss function and Optimizer\n",
        "model.compile(loss='categorical_crossentropy',\n",
        "              optimizer=Adam(),\n",
        "              metrics=['accuracy'])"
      ],
      "execution_count": null,
      "outputs": []
    },
    {
      "cell_type": "code",
      "metadata": {
        "colab": {
          "base_uri": "https://localhost:8080/"
        },
        "id": "ejFVf9l9h80Y",
        "outputId": "a3e9eb22-6a37-4dce-83d4-33bc663c802a"
      },
      "source": [
        "#https://machinelearningmastery.com/check-point-deep-learning-models-keras/\n",
        "from keras.callbacks import ModelCheckpoint\n",
        "\n",
        "history = model.fit_generator(datagen.flow(X_train, y_train, batch_size=batch_size),steps_per_epoch=X_train.shape[0]//batch_size,\n",
        "    epochs=20,\n",
        "    verbose = 1,validation_steps = X_test.shape[0]//batch_size,\n",
        "    validation_data=(X_test, y_test),callbacks=[cp_callback])"
      ],
      "execution_count": null,
      "outputs": [
        {
          "output_type": "stream",
          "name": "stdout",
          "text": [
            "Epoch 1/20\n",
            "390/390 [==============================] - 117s 293ms/step - loss: 0.1902 - accuracy: 0.9324 - val_loss: 0.4018 - val_accuracy: 0.8796\n",
            "\n",
            "Epoch 00001: saving model to /content/gdrive/My Drive/densenet_training/cp1-70-0001.ckpt\n",
            "Epoch 2/20\n",
            "390/390 [==============================] - 113s 290ms/step - loss: 0.1850 - accuracy: 0.9344 - val_loss: 0.5467 - val_accuracy: 0.8474\n",
            "\n",
            "Epoch 00002: saving model to /content/gdrive/My Drive/densenet_training/cp1-70-0002.ckpt\n",
            "Epoch 3/20\n",
            "390/390 [==============================] - 113s 290ms/step - loss: 0.1842 - accuracy: 0.9350 - val_loss: 0.5025 - val_accuracy: 0.8507\n",
            "\n",
            "Epoch 00003: saving model to /content/gdrive/My Drive/densenet_training/cp1-70-0003.ckpt\n",
            "Epoch 4/20\n",
            "390/390 [==============================] - 113s 290ms/step - loss: 0.1769 - accuracy: 0.9382 - val_loss: 0.4173 - val_accuracy: 0.8751\n",
            "\n",
            "Epoch 00004: saving model to /content/gdrive/My Drive/densenet_training/cp1-70-0004.ckpt\n",
            "Epoch 5/20\n",
            "390/390 [==============================] - 113s 290ms/step - loss: 0.1771 - accuracy: 0.9381 - val_loss: 0.3180 - val_accuracy: 0.9000\n",
            "\n",
            "Epoch 00005: saving model to /content/gdrive/My Drive/densenet_training/cp1-70-0005.ckpt\n",
            "Epoch 6/20\n",
            "390/390 [==============================] - 113s 290ms/step - loss: 0.1707 - accuracy: 0.9389 - val_loss: 0.6174 - val_accuracy: 0.8441\n",
            "\n",
            "Epoch 00006: saving model to /content/gdrive/My Drive/densenet_training/cp1-70-0006.ckpt\n",
            "Epoch 7/20\n",
            "390/390 [==============================] - 113s 290ms/step - loss: 0.1681 - accuracy: 0.9417 - val_loss: 0.3887 - val_accuracy: 0.8860\n",
            "\n",
            "Epoch 00007: saving model to /content/gdrive/My Drive/densenet_training/cp1-70-0007.ckpt\n",
            "Epoch 8/20\n",
            "390/390 [==============================] - 113s 289ms/step - loss: 0.1637 - accuracy: 0.9429 - val_loss: 0.4060 - val_accuracy: 0.8883\n",
            "\n",
            "Epoch 00008: saving model to /content/gdrive/My Drive/densenet_training/cp1-70-0008.ckpt\n",
            "Epoch 9/20\n",
            "390/390 [==============================] - 113s 290ms/step - loss: 0.1643 - accuracy: 0.9420 - val_loss: 0.4192 - val_accuracy: 0.8742\n",
            "\n",
            "Epoch 00009: saving model to /content/gdrive/My Drive/densenet_training/cp1-70-0009.ckpt\n",
            "Epoch 10/20\n",
            "390/390 [==============================] - 113s 291ms/step - loss: 0.1637 - accuracy: 0.9412 - val_loss: 0.4214 - val_accuracy: 0.8803\n",
            "\n",
            "Epoch 00010: saving model to /content/gdrive/My Drive/densenet_training/cp1-70-0010.ckpt\n",
            "Epoch 11/20\n",
            "390/390 [==============================] - 113s 290ms/step - loss: 0.1546 - accuracy: 0.9458 - val_loss: 0.4002 - val_accuracy: 0.8864\n",
            "\n",
            "Epoch 00011: saving model to /content/gdrive/My Drive/densenet_training/cp1-70-0011.ckpt\n",
            "Epoch 12/20\n",
            "390/390 [==============================] - 113s 290ms/step - loss: 0.1520 - accuracy: 0.9460 - val_loss: 0.5263 - val_accuracy: 0.8690\n",
            "\n",
            "Epoch 00012: saving model to /content/gdrive/My Drive/densenet_training/cp1-70-0012.ckpt\n",
            "Epoch 13/20\n",
            "390/390 [==============================] - 113s 290ms/step - loss: 0.1547 - accuracy: 0.9455 - val_loss: 0.3701 - val_accuracy: 0.8931\n",
            "\n",
            "Epoch 00013: saving model to /content/gdrive/My Drive/densenet_training/cp1-70-0013.ckpt\n",
            "Epoch 14/20\n",
            "390/390 [==============================] - 113s 290ms/step - loss: 0.1491 - accuracy: 0.9472 - val_loss: 0.3428 - val_accuracy: 0.9000\n",
            "\n",
            "Epoch 00014: saving model to /content/gdrive/My Drive/densenet_training/cp1-70-0014.ckpt\n",
            "Epoch 15/20\n",
            "390/390 [==============================] - 113s 289ms/step - loss: 0.1490 - accuracy: 0.9479 - val_loss: 0.3800 - val_accuracy: 0.8905\n",
            "\n",
            "Epoch 00015: saving model to /content/gdrive/My Drive/densenet_training/cp1-70-0015.ckpt\n",
            "Epoch 16/20\n",
            "390/390 [==============================] - 113s 289ms/step - loss: 0.1461 - accuracy: 0.9488 - val_loss: 0.4343 - val_accuracy: 0.8759\n",
            "\n",
            "Epoch 00016: saving model to /content/gdrive/My Drive/densenet_training/cp1-70-0016.ckpt\n",
            "Epoch 17/20\n",
            "390/390 [==============================] - 113s 289ms/step - loss: 0.1460 - accuracy: 0.9486 - val_loss: 0.7031 - val_accuracy: 0.8316\n",
            "\n",
            "Epoch 00017: saving model to /content/gdrive/My Drive/densenet_training/cp1-70-0017.ckpt\n",
            "Epoch 18/20\n",
            "390/390 [==============================] - 113s 289ms/step - loss: 0.1402 - accuracy: 0.9512 - val_loss: 0.4063 - val_accuracy: 0.8869\n",
            "\n",
            "Epoch 00018: saving model to /content/gdrive/My Drive/densenet_training/cp1-70-0018.ckpt\n",
            "Epoch 19/20\n",
            "390/390 [==============================] - 113s 289ms/step - loss: 0.1398 - accuracy: 0.9511 - val_loss: 0.7413 - val_accuracy: 0.8191\n",
            "\n",
            "Epoch 00019: saving model to /content/gdrive/My Drive/densenet_training/cp1-70-0019.ckpt\n",
            "Epoch 20/20\n",
            "390/390 [==============================] - 113s 290ms/step - loss: 0.1358 - accuracy: 0.9518 - val_loss: 0.5589 - val_accuracy: 0.8643\n",
            "\n",
            "Epoch 00020: saving model to /content/gdrive/My Drive/densenet_training/cp1-70-0020.ckpt\n"
          ]
        }
      ]
    },
    {
      "cell_type": "code",
      "metadata": {
        "colab": {
          "base_uri": "https://localhost:8080/"
        },
        "id": "f3a8ubaJiECU",
        "outputId": "2fcf20ff-7609-4d93-879e-27799afdc07e"
      },
      "source": [
        "model.load_weights('/content/gdrive/My Drive/densenet_training/cp1-70-0014.ckpt')"
      ],
      "execution_count": null,
      "outputs": [
        {
          "output_type": "execute_result",
          "data": {
            "text/plain": [
              "<tensorflow.python.training.tracking.util.CheckpointLoadStatus at 0x7f99bfe676d0>"
            ]
          },
          "metadata": {},
          "execution_count": 46
        }
      ]
    },
    {
      "cell_type": "code",
      "metadata": {
        "colab": {
          "base_uri": "https://localhost:8080/"
        },
        "id": "mur_PvNcx-Zk",
        "outputId": "da51e022-5ab9-4522-abce-9b56de90f1a2"
      },
      "source": [
        "# Test the model\n",
        "score = model.evaluate(X_test, y_test, verbose=1)\n",
        "print('Test loss:', score[0])\n",
        "print('Test accuracy:', score[1])"
      ],
      "execution_count": null,
      "outputs": [
        {
          "output_type": "stream",
          "name": "stdout",
          "text": [
            "313/313 [==============================] - 10s 30ms/step - loss: 0.3428 - accuracy: 0.9000\n",
            "Test loss: 0.3428269028663635\n",
            "Test accuracy: 0.8999999761581421\n"
          ]
        }
      ]
    },
    {
      "cell_type": "markdown",
      "metadata": {
        "id": "IMgnq5CW8VRI"
      },
      "source": [
        "<pre><font size=5>Here we get our output at 84 epoch.\n",
        "We Run it again and see it give even good result ."
      ]
    },
    {
      "cell_type": "code",
      "metadata": {
        "colab": {
          "base_uri": "https://localhost:8080/"
        },
        "id": "u7Y-oTCNzZyc",
        "outputId": "57a53752-d0b6-49b9-9888-4c99b72f497a"
      },
      "source": [
        "model.load_weights('/content/gdrive/My Drive/densenet_training/cp1-70-0020.ckpt')"
      ],
      "execution_count": null,
      "outputs": [
        {
          "output_type": "execute_result",
          "data": {
            "text/plain": [
              "<tensorflow.python.training.tracking.util.CheckpointLoadStatus at 0x7f99bfe0c750>"
            ]
          },
          "metadata": {},
          "execution_count": 48
        }
      ]
    },
    {
      "cell_type": "code",
      "metadata": {
        "id": "0G8m_MheiKd3"
      },
      "source": [
        "#checkpoints after 90 epoch\n",
        "import os\n",
        "checkpoint_path = \"/content/gdrive/My Drive/densenet_training/cp1-90-{epoch:04d}.ckpt\"\n",
        "checkpoint_dir = os.path.dirname(checkpoint_path)\n",
        "\n",
        "\n",
        "cp_callback = tf.keras.callbacks.ModelCheckpoint(\n",
        "    checkpoint_path, verbose=1, save_weights_only=True)"
      ],
      "execution_count": null,
      "outputs": []
    },
    {
      "cell_type": "code",
      "metadata": {
        "id": "NZIUJYOViM4s"
      },
      "source": [
        "# determine Loss function and Optimizer\n",
        "model.compile(loss='categorical_crossentropy',\n",
        "              optimizer=Adam(),\n",
        "              metrics=['accuracy'])"
      ],
      "execution_count": null,
      "outputs": []
    },
    {
      "cell_type": "code",
      "metadata": {
        "colab": {
          "base_uri": "https://localhost:8080/"
        },
        "id": "xKyZvLOHiO6k",
        "outputId": "02a94cb1-888f-4a56-d3c2-9a974ffcd2c7"
      },
      "source": [
        "#https://machinelearningmastery.com/check-point-deep-learning-models-keras/\n",
        "from keras.callbacks import ModelCheckpoint\n",
        "\n",
        "history = model.fit_generator(datagen.flow(X_train, y_train, batch_size=batch_size),steps_per_epoch=X_train.shape[0]//batch_size,\n",
        "    epochs=20,\n",
        "    verbose = 1,validation_steps = X_test.shape[0]//batch_size,\n",
        "    validation_data=(X_test, y_test),callbacks=[cp_callback])"
      ],
      "execution_count": null,
      "outputs": [
        {
          "output_type": "stream",
          "name": "stdout",
          "text": [
            "Epoch 1/20\n",
            "390/390 [==============================] - 117s 291ms/step - loss: 0.1413 - accuracy: 0.9503 - val_loss: 0.4049 - val_accuracy: 0.8886\n",
            "\n",
            "Epoch 00001: saving model to /content/gdrive/My Drive/densenet_training/cp1-90-0001.ckpt\n",
            "Epoch 2/20\n",
            "390/390 [==============================] - 113s 289ms/step - loss: 0.1340 - accuracy: 0.9524 - val_loss: 0.3920 - val_accuracy: 0.8902\n",
            "\n",
            "Epoch 00002: saving model to /content/gdrive/My Drive/densenet_training/cp1-90-0002.ckpt\n",
            "Epoch 3/20\n",
            "390/390 [==============================] - 113s 289ms/step - loss: 0.1343 - accuracy: 0.9518 - val_loss: 0.3937 - val_accuracy: 0.8930\n",
            "\n",
            "Epoch 00003: saving model to /content/gdrive/My Drive/densenet_training/cp1-90-0003.ckpt\n",
            "Epoch 4/20\n",
            "390/390 [==============================] - 113s 289ms/step - loss: 0.1305 - accuracy: 0.9540 - val_loss: 0.4057 - val_accuracy: 0.8836\n",
            "\n",
            "Epoch 00004: saving model to /content/gdrive/My Drive/densenet_training/cp1-90-0004.ckpt\n",
            "Epoch 5/20\n",
            "390/390 [==============================] - 113s 289ms/step - loss: 0.1287 - accuracy: 0.9541 - val_loss: 0.4492 - val_accuracy: 0.8817\n",
            "\n",
            "Epoch 00005: saving model to /content/gdrive/My Drive/densenet_training/cp1-90-0005.ckpt\n",
            "Epoch 6/20\n",
            "390/390 [==============================] - 113s 289ms/step - loss: 0.1281 - accuracy: 0.9540 - val_loss: 0.3827 - val_accuracy: 0.8897\n",
            "\n",
            "Epoch 00006: saving model to /content/gdrive/My Drive/densenet_training/cp1-90-0006.ckpt\n",
            "Epoch 7/20\n",
            "390/390 [==============================] - 116s 297ms/step - loss: 0.1239 - accuracy: 0.9556 - val_loss: 0.4316 - val_accuracy: 0.8861\n",
            "\n",
            "Epoch 00007: saving model to /content/gdrive/My Drive/densenet_training/cp1-90-0007.ckpt\n",
            "Epoch 8/20\n",
            "390/390 [==============================] - 112s 287ms/step - loss: 0.1227 - accuracy: 0.9567 - val_loss: 0.3846 - val_accuracy: 0.8949\n",
            "\n",
            "Epoch 00008: saving model to /content/gdrive/My Drive/densenet_training/cp1-90-0008.ckpt\n",
            "Epoch 9/20\n",
            "390/390 [==============================] - 113s 288ms/step - loss: 0.1242 - accuracy: 0.9561 - val_loss: 0.4343 - val_accuracy: 0.8839\n",
            "\n",
            "Epoch 00009: saving model to /content/gdrive/My Drive/densenet_training/cp1-90-0009.ckpt\n",
            "Epoch 10/20\n",
            "390/390 [==============================] - 113s 288ms/step - loss: 0.1185 - accuracy: 0.9590 - val_loss: 0.5168 - val_accuracy: 0.8667\n",
            "\n",
            "Epoch 00010: saving model to /content/gdrive/My Drive/densenet_training/cp1-90-0010.ckpt\n",
            "Epoch 11/20\n",
            "390/390 [==============================] - 113s 289ms/step - loss: 0.1182 - accuracy: 0.9574 - val_loss: 0.3681 - val_accuracy: 0.9017\n",
            "\n",
            "Epoch 00011: saving model to /content/gdrive/My Drive/densenet_training/cp1-90-0011.ckpt\n",
            "Epoch 12/20\n",
            "390/390 [==============================] - 113s 288ms/step - loss: 0.1167 - accuracy: 0.9579 - val_loss: 0.5039 - val_accuracy: 0.8728\n",
            "\n",
            "Epoch 00012: saving model to /content/gdrive/My Drive/densenet_training/cp1-90-0012.ckpt\n",
            "Epoch 13/20\n",
            "390/390 [==============================] - 113s 289ms/step - loss: 0.1132 - accuracy: 0.9590 - val_loss: 0.4279 - val_accuracy: 0.8894\n",
            "\n",
            "Epoch 00013: saving model to /content/gdrive/My Drive/densenet_training/cp1-90-0013.ckpt\n",
            "Epoch 14/20\n",
            "390/390 [==============================] - 113s 289ms/step - loss: 0.1140 - accuracy: 0.9600 - val_loss: 0.4147 - val_accuracy: 0.8893\n",
            "\n",
            "Epoch 00014: saving model to /content/gdrive/My Drive/densenet_training/cp1-90-0014.ckpt\n",
            "Epoch 15/20\n",
            "390/390 [==============================] - 113s 289ms/step - loss: 0.1085 - accuracy: 0.9628 - val_loss: 0.4806 - val_accuracy: 0.8769\n",
            "\n",
            "Epoch 00015: saving model to /content/gdrive/My Drive/densenet_training/cp1-90-0015.ckpt\n",
            "Epoch 16/20\n",
            "390/390 [==============================] - 113s 289ms/step - loss: 0.1138 - accuracy: 0.9601 - val_loss: 0.4141 - val_accuracy: 0.8953\n",
            "\n",
            "Epoch 00016: saving model to /content/gdrive/My Drive/densenet_training/cp1-90-0016.ckpt\n",
            "Epoch 17/20\n",
            "390/390 [==============================] - 113s 289ms/step - loss: 0.1103 - accuracy: 0.9605 - val_loss: 0.4435 - val_accuracy: 0.8900\n",
            "\n",
            "Epoch 00017: saving model to /content/gdrive/My Drive/densenet_training/cp1-90-0017.ckpt\n",
            "Epoch 18/20\n",
            "390/390 [==============================] - 113s 289ms/step - loss: 0.1072 - accuracy: 0.9624 - val_loss: 0.3897 - val_accuracy: 0.8952\n",
            "\n",
            "Epoch 00018: saving model to /content/gdrive/My Drive/densenet_training/cp1-90-0018.ckpt\n",
            "Epoch 19/20\n",
            "390/390 [==============================] - 113s 289ms/step - loss: 0.1086 - accuracy: 0.9616 - val_loss: 0.4066 - val_accuracy: 0.8928\n",
            "\n",
            "Epoch 00019: saving model to /content/gdrive/My Drive/densenet_training/cp1-90-0019.ckpt\n",
            "Epoch 20/20\n",
            "390/390 [==============================] - 113s 289ms/step - loss: 0.1081 - accuracy: 0.9622 - val_loss: 0.4062 - val_accuracy: 0.8967\n",
            "\n",
            "Epoch 00020: saving model to /content/gdrive/My Drive/densenet_training/cp1-90-0020.ckpt\n"
          ]
        }
      ]
    },
    {
      "cell_type": "code",
      "metadata": {
        "colab": {
          "base_uri": "https://localhost:8080/"
        },
        "id": "oWw0svSz7eiH",
        "outputId": "cc7c4184-0533-4ef0-e060-2c8509e7a700"
      },
      "source": [
        "model.load_weights('/content/gdrive/My Drive/densenet_training/cp1-90-0011.ckpt')"
      ],
      "execution_count": null,
      "outputs": [
        {
          "output_type": "execute_result",
          "data": {
            "text/plain": [
              "<tensorflow.python.training.tracking.util.CheckpointLoadStatus at 0x7f99c1400bd0>"
            ]
          },
          "metadata": {},
          "execution_count": 52
        }
      ]
    },
    {
      "cell_type": "code",
      "metadata": {
        "colab": {
          "base_uri": "https://localhost:8080/"
        },
        "id": "SS0vB1_t7mDZ",
        "outputId": "7a00e035-fcd7-4d40-c0d8-bd4d05512db8"
      },
      "source": [
        "# Test the model\n",
        "score = model.evaluate(X_test, y_test, verbose=1)\n",
        "print('Test loss:', score[0])\n",
        "print('Test accuracy:', score[1])"
      ],
      "execution_count": null,
      "outputs": [
        {
          "output_type": "stream",
          "name": "stdout",
          "text": [
            "313/313 [==============================] - 9s 29ms/step - loss: 0.3680 - accuracy: 0.9017\n",
            "Test loss: 0.36804988980293274\n",
            "Test accuracy: 0.9017000198364258\n"
          ]
        }
      ]
    },
    {
      "cell_type": "code",
      "metadata": {
        "colab": {
          "base_uri": "https://localhost:8080/",
          "height": 0
        },
        "id": "Ii48wLhK7qE5",
        "outputId": "5415b456-d5e6-48a3-f554-42789f09d020"
      },
      "source": [
        "model.load_weights('/content/gdrive/My Drive/densenet_training/cp1-90-0020.ckpt')"
      ],
      "execution_count": 23,
      "outputs": [
        {
          "output_type": "execute_result",
          "data": {
            "text/plain": [
              "<tensorflow.python.training.tracking.util.CheckpointLoadStatus at 0x7f59f3d5db10>"
            ]
          },
          "metadata": {},
          "execution_count": 23
        }
      ]
    },
    {
      "cell_type": "markdown",
      "metadata": {
        "id": "VzHlD-Tc80-h"
      },
      "source": [
        "<pre><font size=5>Now instead of Adam we used Sgd and see how it give result."
      ]
    },
    {
      "cell_type": "code",
      "metadata": {
        "id": "TrT2ok5O7uq2"
      },
      "source": [
        "#checkpoints after 90 epoch\n",
        "import os\n",
        "checkpoint_path = \"/content/gdrive/My Drive/densenet_training/cp1-110-{epoch:04d}.ckpt\"\n",
        "checkpoint_dir = os.path.dirname(checkpoint_path)\n",
        "\n",
        "\n",
        "cp_callback = tf.keras.callbacks.ModelCheckpoint(\n",
        "    checkpoint_path, verbose=1, save_weights_only=True)"
      ],
      "execution_count": 24,
      "outputs": []
    },
    {
      "cell_type": "code",
      "metadata": {
        "id": "vYyBEB5wzih_"
      },
      "source": [
        "# determine Loss function and Optimizer\n",
        "from tensorflow.keras.optimizers import SGD\n",
        "model.compile(loss='categorical_crossentropy',\n",
        "              optimizer=SGD(lr=0.1, decay=1e-4, momentum=0.9, nesterov=True),\n",
        "              metrics=['accuracy'])"
      ],
      "execution_count": 25,
      "outputs": []
    },
    {
      "cell_type": "code",
      "metadata": {
        "colab": {
          "base_uri": "https://localhost:8080/",
          "height": 0
        },
        "id": "MBIcx4Ih71n2",
        "outputId": "020cd91e-1a24-4c48-dd5b-49ccf70a4c90"
      },
      "source": [
        "#https://machinelearningmastery.com/check-point-deep-learning-models-keras/\n",
        "from keras.callbacks import ModelCheckpoint\n",
        "\n",
        "history = model.fit_generator(datagen.flow(X_train, y_train, batch_size=batch_size),steps_per_epoch=X_train.shape[0]//batch_size,\n",
        "    epochs=20,\n",
        "    verbose = 1,validation_steps = X_test.shape[0]//batch_size,\n",
        "    validation_data=(X_test, y_test),callbacks=[cp_callback])"
      ],
      "execution_count": 26,
      "outputs": [
        {
          "output_type": "stream",
          "name": "stdout",
          "text": [
            "Epoch 1/20\n",
            "390/390 [==============================] - 153s 303ms/step - loss: 0.0920 - accuracy: 0.9675 - val_loss: 0.2944 - val_accuracy: 0.9202\n",
            "\n",
            "Epoch 00001: saving model to /content/gdrive/My Drive/densenet_training/cp1-110-0001.ckpt\n",
            "Epoch 2/20\n",
            "390/390 [==============================] - 113s 290ms/step - loss: 0.0812 - accuracy: 0.9708 - val_loss: 0.2892 - val_accuracy: 0.9224\n",
            "\n",
            "Epoch 00002: saving model to /content/gdrive/My Drive/densenet_training/cp1-110-0002.ckpt\n",
            "Epoch 3/20\n",
            "390/390 [==============================] - 113s 290ms/step - loss: 0.0814 - accuracy: 0.9716 - val_loss: 0.2857 - val_accuracy: 0.9227\n",
            "\n",
            "Epoch 00003: saving model to /content/gdrive/My Drive/densenet_training/cp1-110-0003.ckpt\n",
            "Epoch 4/20\n",
            "390/390 [==============================] - 113s 289ms/step - loss: 0.0757 - accuracy: 0.9731 - val_loss: 0.2891 - val_accuracy: 0.9216\n",
            "\n",
            "Epoch 00004: saving model to /content/gdrive/My Drive/densenet_training/cp1-110-0004.ckpt\n",
            "Epoch 5/20\n",
            "390/390 [==============================] - 113s 290ms/step - loss: 0.0737 - accuracy: 0.9741 - val_loss: 0.2823 - val_accuracy: 0.9235\n",
            "\n",
            "Epoch 00005: saving model to /content/gdrive/My Drive/densenet_training/cp1-110-0005.ckpt\n",
            "Epoch 6/20\n",
            "390/390 [==============================] - 113s 289ms/step - loss: 0.0684 - accuracy: 0.9765 - val_loss: 0.2835 - val_accuracy: 0.9227\n",
            "\n",
            "Epoch 00006: saving model to /content/gdrive/My Drive/densenet_training/cp1-110-0006.ckpt\n",
            "Epoch 7/20\n",
            "390/390 [==============================] - 113s 289ms/step - loss: 0.0688 - accuracy: 0.9751 - val_loss: 0.2835 - val_accuracy: 0.9229\n",
            "\n",
            "Epoch 00007: saving model to /content/gdrive/My Drive/densenet_training/cp1-110-0007.ckpt\n",
            "Epoch 8/20\n",
            "390/390 [==============================] - 113s 289ms/step - loss: 0.0685 - accuracy: 0.9766 - val_loss: 0.2835 - val_accuracy: 0.9221\n",
            "\n",
            "Epoch 00008: saving model to /content/gdrive/My Drive/densenet_training/cp1-110-0008.ckpt\n",
            "Epoch 9/20\n",
            "390/390 [==============================] - 113s 289ms/step - loss: 0.0681 - accuracy: 0.9761 - val_loss: 0.2864 - val_accuracy: 0.9208\n",
            "\n",
            "Epoch 00009: saving model to /content/gdrive/My Drive/densenet_training/cp1-110-0009.ckpt\n",
            "Epoch 10/20\n",
            "390/390 [==============================] - 113s 289ms/step - loss: 0.0669 - accuracy: 0.9766 - val_loss: 0.2828 - val_accuracy: 0.9227\n",
            "\n",
            "Epoch 00010: saving model to /content/gdrive/My Drive/densenet_training/cp1-110-0010.ckpt\n",
            "Epoch 11/20\n",
            "390/390 [==============================] - 113s 290ms/step - loss: 0.0661 - accuracy: 0.9768 - val_loss: 0.2822 - val_accuracy: 0.9242\n",
            "\n",
            "Epoch 00011: saving model to /content/gdrive/My Drive/densenet_training/cp1-110-0011.ckpt\n",
            "Epoch 12/20\n",
            "390/390 [==============================] - 113s 291ms/step - loss: 0.0649 - accuracy: 0.9772 - val_loss: 0.2813 - val_accuracy: 0.9229\n",
            "\n",
            "Epoch 00012: saving model to /content/gdrive/My Drive/densenet_training/cp1-110-0012.ckpt\n",
            "Epoch 13/20\n",
            "390/390 [==============================] - 113s 291ms/step - loss: 0.0643 - accuracy: 0.9781 - val_loss: 0.2854 - val_accuracy: 0.9238\n",
            "\n",
            "Epoch 00013: saving model to /content/gdrive/My Drive/densenet_training/cp1-110-0013.ckpt\n",
            "Epoch 14/20\n",
            "390/390 [==============================] - 114s 291ms/step - loss: 0.0626 - accuracy: 0.9780 - val_loss: 0.2845 - val_accuracy: 0.9218\n",
            "\n",
            "Epoch 00014: saving model to /content/gdrive/My Drive/densenet_training/cp1-110-0014.ckpt\n",
            "Epoch 15/20\n",
            "390/390 [==============================] - 114s 291ms/step - loss: 0.0632 - accuracy: 0.9784 - val_loss: 0.2849 - val_accuracy: 0.9228\n",
            "\n",
            "Epoch 00015: saving model to /content/gdrive/My Drive/densenet_training/cp1-110-0015.ckpt\n",
            "Epoch 16/20\n",
            "390/390 [==============================] - 113s 290ms/step - loss: 0.0631 - accuracy: 0.9775 - val_loss: 0.2819 - val_accuracy: 0.9233\n",
            "\n",
            "Epoch 00016: saving model to /content/gdrive/My Drive/densenet_training/cp1-110-0016.ckpt\n",
            "Epoch 17/20\n",
            "390/390 [==============================] - 113s 291ms/step - loss: 0.0628 - accuracy: 0.9780 - val_loss: 0.2840 - val_accuracy: 0.9233\n",
            "\n",
            "Epoch 00017: saving model to /content/gdrive/My Drive/densenet_training/cp1-110-0017.ckpt\n",
            "Epoch 18/20\n",
            "390/390 [==============================] - 114s 291ms/step - loss: 0.0603 - accuracy: 0.9790 - val_loss: 0.2852 - val_accuracy: 0.9234\n",
            "\n",
            "Epoch 00018: saving model to /content/gdrive/My Drive/densenet_training/cp1-110-0018.ckpt\n",
            "Epoch 19/20\n",
            "390/390 [==============================] - 113s 291ms/step - loss: 0.0626 - accuracy: 0.9784 - val_loss: 0.2825 - val_accuracy: 0.9237\n",
            "\n",
            "Epoch 00019: saving model to /content/gdrive/My Drive/densenet_training/cp1-110-0019.ckpt\n",
            "Epoch 20/20\n",
            "390/390 [==============================] - 113s 290ms/step - loss: 0.0629 - accuracy: 0.9777 - val_loss: 0.2825 - val_accuracy: 0.9245\n",
            "\n",
            "Epoch 00020: saving model to /content/gdrive/My Drive/densenet_training/cp1-110-0020.ckpt\n"
          ]
        }
      ]
    },
    {
      "cell_type": "code",
      "metadata": {
        "colab": {
          "base_uri": "https://localhost:8080/",
          "height": 0
        },
        "id": "1vOABmENouaQ",
        "outputId": "b1d2f217-4b76-45b0-c4f7-672274f8cbfe"
      },
      "source": [
        "# Test the model\n",
        "score = model.evaluate(X_test, y_test, verbose=1)\n",
        "print('Test loss:', score[0])\n",
        "print('Test accuracy:', score[1])"
      ],
      "execution_count": 27,
      "outputs": [
        {
          "output_type": "stream",
          "name": "stdout",
          "text": [
            "313/313 [==============================] - 10s 31ms/step - loss: 0.2825 - accuracy: 0.9245\n",
            "Test loss: 0.28252753615379333\n",
            "Test accuracy: 0.9244999885559082\n"
          ]
        }
      ]
    },
    {
      "cell_type": "markdown",
      "metadata": {
        "id": "kYG6xVJb9CYs"
      },
      "source": [
        "<pre><font size=5>we get our Best output at 110 epoch , which 92.45 accuracy."
      ]
    },
    {
      "cell_type": "code",
      "metadata": {
        "colab": {
          "base_uri": "https://localhost:8080/",
          "height": 0
        },
        "id": "16Q9J6axseW5",
        "outputId": "679e0b5e-36b6-419f-8fa8-e06b22cc6693"
      },
      "source": [
        "# Save the trained weights in to .h5 format\n",
        "model.save_weights(\"model_dense.h5\")\n",
        "print(\"Saved model to disk\")"
      ],
      "execution_count": 32,
      "outputs": [
        {
          "output_type": "stream",
          "name": "stdout",
          "text": [
            "Saved model to disk\n"
          ]
        }
      ]
    },
    {
      "cell_type": "markdown",
      "metadata": {
        "id": "d6a39P839TIO"
      },
      "source": [
        "#Conclusion:\n",
        "\n",
        "After using some image augmentation techniques like rotation,horizontal flipping, height and width shifting, as well as changing some hyperparameters, we were able to get a model with 92.45% test accuracy. Our deep learning model has less than 1 Million parameters, and we have reached the desired accuracy in less than 300 epochs."
      ]
    },
    {
      "cell_type": "markdown",
      "metadata": {
        "id": "2CMI4iLv-ZK_"
      },
      "source": [
        "#Refernce:\n",
        "- https://colab.research.google.com/drive/1NGQjke72AS93IOpNcnE9diQEg78-sU3C#scrollTo=c5Wksy8z5-rw.\n",
        "- https://machinelearningmastery.com/how-to-develop-a-cnn-from-scratch-for-cifar-10-photo-classification/\n",
        "- https://www.tensorflow.org/tutorials/images/cnn"
      ]
    }
  ]
}